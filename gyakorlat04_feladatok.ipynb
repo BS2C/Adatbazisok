{
    "metadata": {
        "kernelspec": {
            "name": "SQL",
            "display_name": "SQL",
            "language": "sql"
        },
        "language_info": {
            "name": "sql",
            "version": ""
        }
    },
    "nbformat_minor": 2,
    "nbformat": 4,
    "cells": [
        {
            "cell_type": "markdown",
            "source": [
                "1. <span style=\"background-color: rgb(255, 255, 255); color: rgb(0, 0, 0); font-family: &quot;Open Sans&quot;, sans-serif; font-size: 14.44px;\">Készítsünk listát arról, hogy ügyfelenként (LOGIN), azon belül szállítási módonként hány megrendelés történt!&nbsp;</span> \n",
                "\n",
                "a. A lista tartalmazza a részösszegeket és a végösszeget is!  \n",
                "b. Használjuk a ROLLUP záradékot!"
            ],
            "metadata": {
                "azdata_cell_guid": "363cd270-6577-449b-9c89-d4b7c7972d52"
            },
            "attachments": {}
        },
        {
            "cell_type": "code",
            "source": [
                "SELECT  [LOGIN], \r\n",
                "        SZALL_MOD,\r\n",
                "        COUNT(*) AS 'Darabszám'\r\n",
                "FROM rendeles \r\n",
                "GROUP BY CUBE([LOGIN], SZALL_MOD)"
            ],
            "metadata": {
                "azdata_cell_guid": "6ab9f633-a3b5-48c9-a1dc-4fb8235ae85b",
                "language": "sql"
            },
            "outputs": [],
            "execution_count": null
        },
        {
            "cell_type": "markdown",
            "source": [
                "2. <span style=\"background-color: rgb(255, 255, 255); color: rgb(0, 0, 0); font-family: &quot;Open Sans&quot;, sans-serif; font-size: 14.44px;\">Készítsünk listát a termékek számáról a következő csoportosítási szempontok szerint:<br>kategória azonosító, raktárkód, raktárkód+mennyiségi egység!</span>\n",
                "\n",
                "a. A listát szűrjük azokra a csoportokra, ahol a termékek száma legalább 6!"
            ],
            "metadata": {
                "azdata_cell_guid": "ea75c103-911f-41a3-a32c-3d40fb3e4e4a"
            },
            "attachments": {}
        },
        {
            "cell_type": "code",
            "source": [
                "SELECT KAT_ID,\r\n",
                "        Raktar_KOD,\r\n",
                "        MEGYS,\r\n",
                "        COUNT(*)\r\n",
                "FROM Termek\r\n",
                "GROUP BY GROUPING SETS(KAT_ID, RAKTAR_KOD, (RAKTAR_KOD, MEGYS))\r\n",
                "HAVING COUNT(*) >=6\r\n",
                ""
            ],
            "metadata": {
                "azdata_cell_guid": "222b9618-a8e8-42b4-a8e8-d002257122b7",
                "language": "sql"
            },
            "outputs": [
                {
                    "output_type": "display_data",
                    "data": {
                        "text/html": "(49 rows affected)"
                    },
                    "metadata": {}
                },
                {
                    "output_type": "display_data",
                    "data": {
                        "text/html": "Total execution time: 00:00:00.012"
                    },
                    "metadata": {}
                },
                {
                    "output_type": "execute_result",
                    "metadata": {},
                    "execution_count": 27,
                    "data": {
                        "application/vnd.dataresource+json": {
                            "schema": {
                                "fields": [
                                    {
                                        "name": "KAT_ID"
                                    },
                                    {
                                        "name": "Raktar_KOD"
                                    },
                                    {
                                        "name": "MEGYS"
                                    },
                                    {
                                        "name": "(No column name)"
                                    }
                                ]
                            },
                            "data": [
                                {
                                    "KAT_ID": "NULL",
                                    "Raktar_KOD": "1",
                                    "MEGYS": "db",
                                    "(No column name)": "11"
                                },
                                {
                                    "KAT_ID": "NULL",
                                    "Raktar_KOD": "1",
                                    "MEGYS": "NULL",
                                    "(No column name)": "11"
                                },
                                {
                                    "KAT_ID": "NULL",
                                    "Raktar_KOD": "3",
                                    "MEGYS": "db",
                                    "(No column name)": "14"
                                },
                                {
                                    "KAT_ID": "NULL",
                                    "Raktar_KOD": "3",
                                    "MEGYS": "NULL",
                                    "(No column name)": "14"
                                },
                                {
                                    "KAT_ID": "NULL",
                                    "Raktar_KOD": "5",
                                    "MEGYS": "csomag",
                                    "(No column name)": "7"
                                },
                                {
                                    "KAT_ID": "NULL",
                                    "Raktar_KOD": "5",
                                    "MEGYS": "db",
                                    "(No column name)": "72"
                                },
                                {
                                    "KAT_ID": "NULL",
                                    "Raktar_KOD": "5",
                                    "MEGYS": "NULL",
                                    "(No column name)": "86"
                                },
                                {
                                    "KAT_ID": "NULL",
                                    "Raktar_KOD": "6",
                                    "MEGYS": "csomag",
                                    "(No column name)": "9"
                                },
                                {
                                    "KAT_ID": "NULL",
                                    "Raktar_KOD": "6",
                                    "MEGYS": "db",
                                    "(No column name)": "94"
                                },
                                {
                                    "KAT_ID": "NULL",
                                    "Raktar_KOD": "6",
                                    "MEGYS": "NULL",
                                    "(No column name)": "106"
                                },
                                {
                                    "KAT_ID": "NULL",
                                    "Raktar_KOD": "7",
                                    "MEGYS": "csomag",
                                    "(No column name)": "9"
                                },
                                {
                                    "KAT_ID": "NULL",
                                    "Raktar_KOD": "7",
                                    "MEGYS": "db",
                                    "(No column name)": "88"
                                },
                                {
                                    "KAT_ID": "NULL",
                                    "Raktar_KOD": "7",
                                    "MEGYS": "NULL",
                                    "(No column name)": "100"
                                },
                                {
                                    "KAT_ID": "NULL",
                                    "Raktar_KOD": "8",
                                    "MEGYS": "csomag",
                                    "(No column name)": "8"
                                },
                                {
                                    "KAT_ID": "NULL",
                                    "Raktar_KOD": "8",
                                    "MEGYS": "db",
                                    "(No column name)": "109"
                                },
                                {
                                    "KAT_ID": "NULL",
                                    "Raktar_KOD": "8",
                                    "MEGYS": "ív",
                                    "(No column name)": "6"
                                },
                                {
                                    "KAT_ID": "NULL",
                                    "Raktar_KOD": "8",
                                    "MEGYS": "NULL",
                                    "(No column name)": "123"
                                },
                                {
                                    "KAT_ID": "NULL",
                                    "Raktar_KOD": "9",
                                    "MEGYS": "csomag",
                                    "(No column name)": "11"
                                },
                                {
                                    "KAT_ID": "NULL",
                                    "Raktar_KOD": "9",
                                    "MEGYS": "db",
                                    "(No column name)": "86"
                                },
                                {
                                    "KAT_ID": "NULL",
                                    "Raktar_KOD": "9",
                                    "MEGYS": "NULL",
                                    "(No column name)": "102"
                                },
                                {
                                    "KAT_ID": "4",
                                    "Raktar_KOD": "NULL",
                                    "MEGYS": "NULL",
                                    "(No column name)": "15"
                                },
                                {
                                    "KAT_ID": "6",
                                    "Raktar_KOD": "NULL",
                                    "MEGYS": "NULL",
                                    "(No column name)": "20"
                                },
                                {
                                    "KAT_ID": "16",
                                    "Raktar_KOD": "NULL",
                                    "MEGYS": "NULL",
                                    "(No column name)": "7"
                                },
                                {
                                    "KAT_ID": "19",
                                    "Raktar_KOD": "NULL",
                                    "MEGYS": "NULL",
                                    "(No column name)": "19"
                                },
                                {
                                    "KAT_ID": "24",
                                    "Raktar_KOD": "NULL",
                                    "MEGYS": "NULL",
                                    "(No column name)": "7"
                                },
                                {
                                    "KAT_ID": "30",
                                    "Raktar_KOD": "NULL",
                                    "MEGYS": "NULL",
                                    "(No column name)": "7"
                                },
                                {
                                    "KAT_ID": "35",
                                    "Raktar_KOD": "NULL",
                                    "MEGYS": "NULL",
                                    "(No column name)": "7"
                                },
                                {
                                    "KAT_ID": "41",
                                    "Raktar_KOD": "NULL",
                                    "MEGYS": "NULL",
                                    "(No column name)": "13"
                                },
                                {
                                    "KAT_ID": "45",
                                    "Raktar_KOD": "NULL",
                                    "MEGYS": "NULL",
                                    "(No column name)": "11"
                                },
                                {
                                    "KAT_ID": "46",
                                    "Raktar_KOD": "NULL",
                                    "MEGYS": "NULL",
                                    "(No column name)": "7"
                                },
                                {
                                    "KAT_ID": "52",
                                    "Raktar_KOD": "NULL",
                                    "MEGYS": "NULL",
                                    "(No column name)": "26"
                                },
                                {
                                    "KAT_ID": "54",
                                    "Raktar_KOD": "NULL",
                                    "MEGYS": "NULL",
                                    "(No column name)": "6"
                                },
                                {
                                    "KAT_ID": "66",
                                    "Raktar_KOD": "NULL",
                                    "MEGYS": "NULL",
                                    "(No column name)": "7"
                                },
                                {
                                    "KAT_ID": "78",
                                    "Raktar_KOD": "NULL",
                                    "MEGYS": "NULL",
                                    "(No column name)": "24"
                                },
                                {
                                    "KAT_ID": "83",
                                    "Raktar_KOD": "NULL",
                                    "MEGYS": "NULL",
                                    "(No column name)": "6"
                                },
                                {
                                    "KAT_ID": "85",
                                    "Raktar_KOD": "NULL",
                                    "MEGYS": "NULL",
                                    "(No column name)": "16"
                                },
                                {
                                    "KAT_ID": "91",
                                    "Raktar_KOD": "NULL",
                                    "MEGYS": "NULL",
                                    "(No column name)": "7"
                                },
                                {
                                    "KAT_ID": "93",
                                    "Raktar_KOD": "NULL",
                                    "MEGYS": "NULL",
                                    "(No column name)": "7"
                                },
                                {
                                    "KAT_ID": "96",
                                    "Raktar_KOD": "NULL",
                                    "MEGYS": "NULL",
                                    "(No column name)": "9"
                                },
                                {
                                    "KAT_ID": "97",
                                    "Raktar_KOD": "NULL",
                                    "MEGYS": "NULL",
                                    "(No column name)": "10"
                                },
                                {
                                    "KAT_ID": "100",
                                    "Raktar_KOD": "NULL",
                                    "MEGYS": "NULL",
                                    "(No column name)": "9"
                                },
                                {
                                    "KAT_ID": "118",
                                    "Raktar_KOD": "NULL",
                                    "MEGYS": "NULL",
                                    "(No column name)": "9"
                                },
                                {
                                    "KAT_ID": "122",
                                    "Raktar_KOD": "NULL",
                                    "MEGYS": "NULL",
                                    "(No column name)": "7"
                                },
                                {
                                    "KAT_ID": "124",
                                    "Raktar_KOD": "NULL",
                                    "MEGYS": "NULL",
                                    "(No column name)": "10"
                                },
                                {
                                    "KAT_ID": "133",
                                    "Raktar_KOD": "NULL",
                                    "MEGYS": "NULL",
                                    "(No column name)": "6"
                                },
                                {
                                    "KAT_ID": "145",
                                    "Raktar_KOD": "NULL",
                                    "MEGYS": "NULL",
                                    "(No column name)": "18"
                                },
                                {
                                    "KAT_ID": "146",
                                    "Raktar_KOD": "NULL",
                                    "MEGYS": "NULL",
                                    "(No column name)": "7"
                                },
                                {
                                    "KAT_ID": "149",
                                    "Raktar_KOD": "NULL",
                                    "MEGYS": "NULL",
                                    "(No column name)": "6"
                                },
                                {
                                    "KAT_ID": "152",
                                    "Raktar_KOD": "NULL",
                                    "MEGYS": "NULL",
                                    "(No column name)": "6"
                                }
                            ]
                        },
                        "text/html": [
                            "<table>",
                            "<tr><th>KAT_ID</th><th>Raktar_KOD</th><th>MEGYS</th><th>(No column name)</th></tr>",
                            "<tr><td>NULL</td><td>1</td><td>db</td><td>11</td></tr>",
                            "<tr><td>NULL</td><td>1</td><td>NULL</td><td>11</td></tr>",
                            "<tr><td>NULL</td><td>3</td><td>db</td><td>14</td></tr>",
                            "<tr><td>NULL</td><td>3</td><td>NULL</td><td>14</td></tr>",
                            "<tr><td>NULL</td><td>5</td><td>csomag</td><td>7</td></tr>",
                            "<tr><td>NULL</td><td>5</td><td>db</td><td>72</td></tr>",
                            "<tr><td>NULL</td><td>5</td><td>NULL</td><td>86</td></tr>",
                            "<tr><td>NULL</td><td>6</td><td>csomag</td><td>9</td></tr>",
                            "<tr><td>NULL</td><td>6</td><td>db</td><td>94</td></tr>",
                            "<tr><td>NULL</td><td>6</td><td>NULL</td><td>106</td></tr>",
                            "<tr><td>NULL</td><td>7</td><td>csomag</td><td>9</td></tr>",
                            "<tr><td>NULL</td><td>7</td><td>db</td><td>88</td></tr>",
                            "<tr><td>NULL</td><td>7</td><td>NULL</td><td>100</td></tr>",
                            "<tr><td>NULL</td><td>8</td><td>csomag</td><td>8</td></tr>",
                            "<tr><td>NULL</td><td>8</td><td>db</td><td>109</td></tr>",
                            "<tr><td>NULL</td><td>8</td><td>ív</td><td>6</td></tr>",
                            "<tr><td>NULL</td><td>8</td><td>NULL</td><td>123</td></tr>",
                            "<tr><td>NULL</td><td>9</td><td>csomag</td><td>11</td></tr>",
                            "<tr><td>NULL</td><td>9</td><td>db</td><td>86</td></tr>",
                            "<tr><td>NULL</td><td>9</td><td>NULL</td><td>102</td></tr>",
                            "<tr><td>4</td><td>NULL</td><td>NULL</td><td>15</td></tr>",
                            "<tr><td>6</td><td>NULL</td><td>NULL</td><td>20</td></tr>",
                            "<tr><td>16</td><td>NULL</td><td>NULL</td><td>7</td></tr>",
                            "<tr><td>19</td><td>NULL</td><td>NULL</td><td>19</td></tr>",
                            "<tr><td>24</td><td>NULL</td><td>NULL</td><td>7</td></tr>",
                            "<tr><td>30</td><td>NULL</td><td>NULL</td><td>7</td></tr>",
                            "<tr><td>35</td><td>NULL</td><td>NULL</td><td>7</td></tr>",
                            "<tr><td>41</td><td>NULL</td><td>NULL</td><td>13</td></tr>",
                            "<tr><td>45</td><td>NULL</td><td>NULL</td><td>11</td></tr>",
                            "<tr><td>46</td><td>NULL</td><td>NULL</td><td>7</td></tr>",
                            "<tr><td>52</td><td>NULL</td><td>NULL</td><td>26</td></tr>",
                            "<tr><td>54</td><td>NULL</td><td>NULL</td><td>6</td></tr>",
                            "<tr><td>66</td><td>NULL</td><td>NULL</td><td>7</td></tr>",
                            "<tr><td>78</td><td>NULL</td><td>NULL</td><td>24</td></tr>",
                            "<tr><td>83</td><td>NULL</td><td>NULL</td><td>6</td></tr>",
                            "<tr><td>85</td><td>NULL</td><td>NULL</td><td>16</td></tr>",
                            "<tr><td>91</td><td>NULL</td><td>NULL</td><td>7</td></tr>",
                            "<tr><td>93</td><td>NULL</td><td>NULL</td><td>7</td></tr>",
                            "<tr><td>96</td><td>NULL</td><td>NULL</td><td>9</td></tr>",
                            "<tr><td>97</td><td>NULL</td><td>NULL</td><td>10</td></tr>",
                            "<tr><td>100</td><td>NULL</td><td>NULL</td><td>9</td></tr>",
                            "<tr><td>118</td><td>NULL</td><td>NULL</td><td>9</td></tr>",
                            "<tr><td>122</td><td>NULL</td><td>NULL</td><td>7</td></tr>",
                            "<tr><td>124</td><td>NULL</td><td>NULL</td><td>10</td></tr>",
                            "<tr><td>133</td><td>NULL</td><td>NULL</td><td>6</td></tr>",
                            "<tr><td>145</td><td>NULL</td><td>NULL</td><td>18</td></tr>",
                            "<tr><td>146</td><td>NULL</td><td>NULL</td><td>7</td></tr>",
                            "<tr><td>149</td><td>NULL</td><td>NULL</td><td>6</td></tr>",
                            "<tr><td>152</td><td>NULL</td><td>NULL</td><td>6</td></tr>",
                            "</table>"
                        ]
                    }
                }
            ],
            "execution_count": 27
        },
        {
            "cell_type": "markdown",
            "source": [
                "```\n",
                "3. Készítsünk listát az egyes termékkategóriákban lévő termékek számáról! \n",
                "\n",
                "```\n",
                "\n",
                "a. Elég megjeleníteni a kategóriák azonosítóit és a darabszámokat!   \n",
                "<span style=\"color: var(--vscode-foreground);\">b. A lista megfelelően jelölve tartalmazza a végösszeget is!&nbsp;<br></span> <span style=\"color: var(--vscode-foreground);\">c. Az oszlopokat nevezzük el értelemszerűen!&nbsp;<br></span> <span style=\"color: var(--vscode-foreground);\">d. A listát rendezzük a darabszám szerint növekvő sorrendbe!</span>\n",
                "\n",
                "  \n",
                "\n",
                "![](https://moodle.uni-corvinus.hu/theme/image.php/adaptable/atto_h5p/1709548862/icon)"
            ],
            "metadata": {
                "azdata_cell_guid": "d7876bb9-76d0-4d07-baed-3cb17b2f96c3"
            },
            "attachments": {}
        },
        {
            "cell_type": "code",
            "source": [
                "SELECT IIF(KAT_ID IS NULL , 'Összesen', CAST(KAT_ID AS nvarchar(5))) AS 'Kategória',\r\n",
                "        COUNT(*) AS 'Darabszám'\r\n",
                "FROM Termek\r\n",
                "GROUP BY ROLLUP(KAT_ID)\r\n",
                "ORDER BY 2"
            ],
            "metadata": {
                "azdata_cell_guid": "56ec19ce-e249-4551-b2a8-f17569765acc",
                "language": "sql"
            },
            "outputs": [],
            "execution_count": null
        },
        {
            "cell_type": "code",
            "source": [
                "SELECT IIF(GROUPING_ID(KAT_ID) = 1 , 'Összesen', CAST(KAT_ID AS nvarchar(5))) AS 'Kategória',\r\n",
                "        COUNT(*) AS 'Darabszám',\r\n",
                "        GROUPING_ID(KAT_ID) -- mindig 0, kiv. rész- vagy főösszegeket\r\n",
                "FROM Termek\r\n",
                "GROUP BY ROLLUP(KAT_ID)\r\n",
                "ORDER BY 2"
            ],
            "metadata": {
                "language": "sql",
                "azdata_cell_guid": "a72459b2-edf1-4f95-b191-1513dc98cb54"
            },
            "outputs": [],
            "execution_count": null
        },
        {
            "cell_type": "markdown",
            "source": [
                "4. <span style=\"background-color: rgb(255, 255, 255); color: rgb(0, 0, 0); font-family: &quot;Open Sans&quot;, sans-serif; font-size: 14.44px;\">Készítsünk listát az ügyfelek számáról születési év szerint, azon belül nem szerinti bontásban!&nbsp;</span> \n",
                "\n",
                "a. A lista megfelelően jelölve tartalmazza a részösszegeket és a végösszeget is!  \n",
                "b. Az oszlopoknak adjunk nevet értelemszerűen!"
            ],
            "metadata": {
                "azdata_cell_guid": "8e7fef82-8022-49a0-8255-fc2846c2134b"
            },
            "attachments": {}
        },
        {
            "cell_type": "code",
            "source": [
                ""
            ],
            "metadata": {
                "azdata_cell_guid": "36f7b396-4a1f-45e5-8720-2302537c91bc",
                "language": "sql"
            },
            "outputs": [],
            "execution_count": null
        },
        {
            "cell_type": "markdown",
            "source": [
                "5. <span style=\"background-color: rgb(255, 255, 255); color: rgb(0, 0, 0); font-family: &quot;Open Sans&quot;, sans-serif; font-size: 14.44px;\">Készítsünk listát a termékek számáról a felvitel hónapja, azon belül napja szerint csoportosítva.&nbsp;</span> \n",
                "\n",
                "a. A lista csak a részösszegeket és a végösszeget tartalmazza!  \n",
                "b. Az oszlopoknak adjunk megfelelő nevet!  \n",
                "c. Ötlet: HAVING + GROUPING\\_ID fv együttes használata"
            ],
            "metadata": {
                "azdata_cell_guid": "84239ca2-6b5e-49f5-9860-d44c11d6de32"
            },
            "attachments": {}
        },
        {
            "cell_type": "code",
            "source": [
                "SELECT MONTH(FELVITEL) AS 'HÓ',\r\n",
                "         DAY(FELVITEL) AS 'NAP',\r\n",
                "        COUNT(*) AS 'DB'\r\n",
                "FROM Termek\r\n",
                "GROUP BY ROLLUP(MONTH(FELVITEL), DAY(FELVITEL))\r\n",
                "HAVING GROUPING_ID(MONTH(FELVITEL)) <> 0 OR GROUPING_ID(DAY(FELVITEL)) <> 0"
            ],
            "metadata": {
                "azdata_cell_guid": "06d9a62b-9430-424b-a135-d80e675f0eb3",
                "language": "sql"
            },
            "outputs": [
                {
                    "output_type": "display_data",
                    "data": {
                        "text/html": "(5 rows affected)"
                    },
                    "metadata": {}
                },
                {
                    "output_type": "display_data",
                    "data": {
                        "text/html": "Total execution time: 00:00:00.013"
                    },
                    "metadata": {}
                },
                {
                    "output_type": "execute_result",
                    "metadata": {},
                    "execution_count": 23,
                    "data": {
                        "application/vnd.dataresource+json": {
                            "schema": {
                                "fields": [
                                    {
                                        "name": "HÓ"
                                    },
                                    {
                                        "name": "NAP"
                                    },
                                    {
                                        "name": "DB"
                                    }
                                ]
                            },
                            "data": [
                                {
                                    "HÓ": "7",
                                    "NAP": "NULL",
                                    "DB": "355"
                                },
                                {
                                    "HÓ": "8",
                                    "NAP": "NULL",
                                    "DB": "194"
                                },
                                {
                                    "HÓ": "9",
                                    "NAP": "NULL",
                                    "DB": "1"
                                },
                                {
                                    "HÓ": "12",
                                    "NAP": "NULL",
                                    "DB": "1"
                                },
                                {
                                    "HÓ": "NULL",
                                    "NAP": "NULL",
                                    "DB": "551"
                                }
                            ]
                        },
                        "text/html": [
                            "<table>",
                            "<tr><th>HÓ</th><th>NAP</th><th>DB</th></tr>",
                            "<tr><td>7</td><td>NULL</td><td>355</td></tr>",
                            "<tr><td>8</td><td>NULL</td><td>194</td></tr>",
                            "<tr><td>9</td><td>NULL</td><td>1</td></tr>",
                            "<tr><td>12</td><td>NULL</td><td>1</td></tr>",
                            "<tr><td>NULL</td><td>NULL</td><td>551</td></tr>",
                            "</table>"
                        ]
                    }
                }
            ],
            "execution_count": 23
        },
        {
            "cell_type": "code",
            "source": [
                "SELECT MONTH(FELVITEL) AS 'HÓ',\r\n",
                "         DAY(FELVITEL) AS 'NAP',\r\n",
                "        COUNT(*) AS 'DB',\r\n",
                "        GROUPING_ID(MONTH(FELVITEL), DAY(FELVITEL))\r\n",
                "FROM Termek\r\n",
                "GROUP BY ROLLUP(MONTH(FELVITEL), DAY(FELVITEL))"
            ],
            "metadata": {
                "language": "sql",
                "azdata_cell_guid": "19c16d52-ee8a-4b5c-a91a-5c909cd069ed",
                "tags": [
                    "hide_input"
                ]
            },
            "outputs": [
                {
                    "output_type": "display_data",
                    "data": {
                        "text/html": "(66 rows affected)"
                    },
                    "metadata": {}
                },
                {
                    "output_type": "display_data",
                    "data": {
                        "text/html": "Total execution time: 00:00:00.016"
                    },
                    "metadata": {}
                },
                {
                    "output_type": "execute_result",
                    "metadata": {},
                    "execution_count": 24,
                    "data": {
                        "application/vnd.dataresource+json": {
                            "schema": {
                                "fields": [
                                    {
                                        "name": "HÓ"
                                    },
                                    {
                                        "name": "NAP"
                                    },
                                    {
                                        "name": "DB"
                                    },
                                    {
                                        "name": "(No column name)"
                                    }
                                ]
                            },
                            "data": [
                                {
                                    "HÓ": "7",
                                    "NAP": "1",
                                    "DB": "8",
                                    "(No column name)": "0"
                                },
                                {
                                    "HÓ": "7",
                                    "NAP": "2",
                                    "DB": "6",
                                    "(No column name)": "0"
                                },
                                {
                                    "HÓ": "7",
                                    "NAP": "4",
                                    "DB": "1",
                                    "(No column name)": "0"
                                },
                                {
                                    "HÓ": "7",
                                    "NAP": "5",
                                    "DB": "4",
                                    "(No column name)": "0"
                                },
                                {
                                    "HÓ": "7",
                                    "NAP": "6",
                                    "DB": "4",
                                    "(No column name)": "0"
                                },
                                {
                                    "HÓ": "7",
                                    "NAP": "7",
                                    "DB": "4",
                                    "(No column name)": "0"
                                },
                                {
                                    "HÓ": "7",
                                    "NAP": "8",
                                    "DB": "3",
                                    "(No column name)": "0"
                                },
                                {
                                    "HÓ": "7",
                                    "NAP": "9",
                                    "DB": "8",
                                    "(No column name)": "0"
                                },
                                {
                                    "HÓ": "7",
                                    "NAP": "10",
                                    "DB": "6",
                                    "(No column name)": "0"
                                },
                                {
                                    "HÓ": "7",
                                    "NAP": "11",
                                    "DB": "11",
                                    "(No column name)": "0"
                                },
                                {
                                    "HÓ": "7",
                                    "NAP": "12",
                                    "DB": "12",
                                    "(No column name)": "0"
                                },
                                {
                                    "HÓ": "7",
                                    "NAP": "13",
                                    "DB": "6",
                                    "(No column name)": "0"
                                },
                                {
                                    "HÓ": "7",
                                    "NAP": "14",
                                    "DB": "14",
                                    "(No column name)": "0"
                                },
                                {
                                    "HÓ": "7",
                                    "NAP": "15",
                                    "DB": "8",
                                    "(No column name)": "0"
                                },
                                {
                                    "HÓ": "7",
                                    "NAP": "16",
                                    "DB": "6",
                                    "(No column name)": "0"
                                },
                                {
                                    "HÓ": "7",
                                    "NAP": "17",
                                    "DB": "13",
                                    "(No column name)": "0"
                                },
                                {
                                    "HÓ": "7",
                                    "NAP": "18",
                                    "DB": "13",
                                    "(No column name)": "0"
                                },
                                {
                                    "HÓ": "7",
                                    "NAP": "19",
                                    "DB": "13",
                                    "(No column name)": "0"
                                },
                                {
                                    "HÓ": "7",
                                    "NAP": "20",
                                    "DB": "13",
                                    "(No column name)": "0"
                                },
                                {
                                    "HÓ": "7",
                                    "NAP": "21",
                                    "DB": "25",
                                    "(No column name)": "0"
                                },
                                {
                                    "HÓ": "7",
                                    "NAP": "22",
                                    "DB": "30",
                                    "(No column name)": "0"
                                },
                                {
                                    "HÓ": "7",
                                    "NAP": "23",
                                    "DB": "33",
                                    "(No column name)": "0"
                                },
                                {
                                    "HÓ": "7",
                                    "NAP": "24",
                                    "DB": "14",
                                    "(No column name)": "0"
                                },
                                {
                                    "HÓ": "7",
                                    "NAP": "25",
                                    "DB": "15",
                                    "(No column name)": "0"
                                },
                                {
                                    "HÓ": "7",
                                    "NAP": "26",
                                    "DB": "15",
                                    "(No column name)": "0"
                                },
                                {
                                    "HÓ": "7",
                                    "NAP": "27",
                                    "DB": "20",
                                    "(No column name)": "0"
                                },
                                {
                                    "HÓ": "7",
                                    "NAP": "28",
                                    "DB": "19",
                                    "(No column name)": "0"
                                },
                                {
                                    "HÓ": "7",
                                    "NAP": "29",
                                    "DB": "14",
                                    "(No column name)": "0"
                                },
                                {
                                    "HÓ": "7",
                                    "NAP": "30",
                                    "DB": "12",
                                    "(No column name)": "0"
                                },
                                {
                                    "HÓ": "7",
                                    "NAP": "31",
                                    "DB": "5",
                                    "(No column name)": "0"
                                },
                                {
                                    "HÓ": "7",
                                    "NAP": "NULL",
                                    "DB": "355",
                                    "(No column name)": "1"
                                },
                                {
                                    "HÓ": "8",
                                    "NAP": "1",
                                    "DB": "15",
                                    "(No column name)": "0"
                                },
                                {
                                    "HÓ": "8",
                                    "NAP": "2",
                                    "DB": "11",
                                    "(No column name)": "0"
                                },
                                {
                                    "HÓ": "8",
                                    "NAP": "3",
                                    "DB": "9",
                                    "(No column name)": "0"
                                },
                                {
                                    "HÓ": "8",
                                    "NAP": "4",
                                    "DB": "2",
                                    "(No column name)": "0"
                                },
                                {
                                    "HÓ": "8",
                                    "NAP": "5",
                                    "DB": "5",
                                    "(No column name)": "0"
                                },
                                {
                                    "HÓ": "8",
                                    "NAP": "6",
                                    "DB": "10",
                                    "(No column name)": "0"
                                },
                                {
                                    "HÓ": "8",
                                    "NAP": "7",
                                    "DB": "2",
                                    "(No column name)": "0"
                                },
                                {
                                    "HÓ": "8",
                                    "NAP": "8",
                                    "DB": "13",
                                    "(No column name)": "0"
                                },
                                {
                                    "HÓ": "8",
                                    "NAP": "9",
                                    "DB": "13",
                                    "(No column name)": "0"
                                },
                                {
                                    "HÓ": "8",
                                    "NAP": "10",
                                    "DB": "13",
                                    "(No column name)": "0"
                                },
                                {
                                    "HÓ": "8",
                                    "NAP": "11",
                                    "DB": "12",
                                    "(No column name)": "0"
                                },
                                {
                                    "HÓ": "8",
                                    "NAP": "12",
                                    "DB": "11",
                                    "(No column name)": "0"
                                },
                                {
                                    "HÓ": "8",
                                    "NAP": "13",
                                    "DB": "17",
                                    "(No column name)": "0"
                                },
                                {
                                    "HÓ": "8",
                                    "NAP": "14",
                                    "DB": "2",
                                    "(No column name)": "0"
                                },
                                {
                                    "HÓ": "8",
                                    "NAP": "15",
                                    "DB": "1",
                                    "(No column name)": "0"
                                },
                                {
                                    "HÓ": "8",
                                    "NAP": "16",
                                    "DB": "1",
                                    "(No column name)": "0"
                                },
                                {
                                    "HÓ": "8",
                                    "NAP": "17",
                                    "DB": "7",
                                    "(No column name)": "0"
                                },
                                {
                                    "HÓ": "8",
                                    "NAP": "18",
                                    "DB": "1",
                                    "(No column name)": "0"
                                },
                                {
                                    "HÓ": "8",
                                    "NAP": "19",
                                    "DB": "2",
                                    "(No column name)": "0"
                                },
                                {
                                    "HÓ": "8",
                                    "NAP": "20",
                                    "DB": "13",
                                    "(No column name)": "0"
                                },
                                {
                                    "HÓ": "8",
                                    "NAP": "21",
                                    "DB": "9",
                                    "(No column name)": "0"
                                },
                                {
                                    "HÓ": "8",
                                    "NAP": "22",
                                    "DB": "6",
                                    "(No column name)": "0"
                                },
                                {
                                    "HÓ": "8",
                                    "NAP": "23",
                                    "DB": "2",
                                    "(No column name)": "0"
                                },
                                {
                                    "HÓ": "8",
                                    "NAP": "24",
                                    "DB": "2",
                                    "(No column name)": "0"
                                },
                                {
                                    "HÓ": "8",
                                    "NAP": "25",
                                    "DB": "2",
                                    "(No column name)": "0"
                                },
                                {
                                    "HÓ": "8",
                                    "NAP": "26",
                                    "DB": "5",
                                    "(No column name)": "0"
                                },
                                {
                                    "HÓ": "8",
                                    "NAP": "27",
                                    "DB": "1",
                                    "(No column name)": "0"
                                },
                                {
                                    "HÓ": "8",
                                    "NAP": "28",
                                    "DB": "1",
                                    "(No column name)": "0"
                                },
                                {
                                    "HÓ": "8",
                                    "NAP": "29",
                                    "DB": "6",
                                    "(No column name)": "0"
                                },
                                {
                                    "HÓ": "8",
                                    "NAP": "NULL",
                                    "DB": "194",
                                    "(No column name)": "1"
                                },
                                {
                                    "HÓ": "9",
                                    "NAP": "3",
                                    "DB": "1",
                                    "(No column name)": "0"
                                },
                                {
                                    "HÓ": "9",
                                    "NAP": "NULL",
                                    "DB": "1",
                                    "(No column name)": "1"
                                },
                                {
                                    "HÓ": "12",
                                    "NAP": "11",
                                    "DB": "1",
                                    "(No column name)": "0"
                                },
                                {
                                    "HÓ": "12",
                                    "NAP": "NULL",
                                    "DB": "1",
                                    "(No column name)": "1"
                                },
                                {
                                    "HÓ": "NULL",
                                    "NAP": "NULL",
                                    "DB": "551",
                                    "(No column name)": "3"
                                }
                            ]
                        },
                        "text/html": [
                            "<table>",
                            "<tr><th>HÓ</th><th>NAP</th><th>DB</th><th>(No column name)</th></tr>",
                            "<tr><td>7</td><td>1</td><td>8</td><td>0</td></tr>",
                            "<tr><td>7</td><td>2</td><td>6</td><td>0</td></tr>",
                            "<tr><td>7</td><td>4</td><td>1</td><td>0</td></tr>",
                            "<tr><td>7</td><td>5</td><td>4</td><td>0</td></tr>",
                            "<tr><td>7</td><td>6</td><td>4</td><td>0</td></tr>",
                            "<tr><td>7</td><td>7</td><td>4</td><td>0</td></tr>",
                            "<tr><td>7</td><td>8</td><td>3</td><td>0</td></tr>",
                            "<tr><td>7</td><td>9</td><td>8</td><td>0</td></tr>",
                            "<tr><td>7</td><td>10</td><td>6</td><td>0</td></tr>",
                            "<tr><td>7</td><td>11</td><td>11</td><td>0</td></tr>",
                            "<tr><td>7</td><td>12</td><td>12</td><td>0</td></tr>",
                            "<tr><td>7</td><td>13</td><td>6</td><td>0</td></tr>",
                            "<tr><td>7</td><td>14</td><td>14</td><td>0</td></tr>",
                            "<tr><td>7</td><td>15</td><td>8</td><td>0</td></tr>",
                            "<tr><td>7</td><td>16</td><td>6</td><td>0</td></tr>",
                            "<tr><td>7</td><td>17</td><td>13</td><td>0</td></tr>",
                            "<tr><td>7</td><td>18</td><td>13</td><td>0</td></tr>",
                            "<tr><td>7</td><td>19</td><td>13</td><td>0</td></tr>",
                            "<tr><td>7</td><td>20</td><td>13</td><td>0</td></tr>",
                            "<tr><td>7</td><td>21</td><td>25</td><td>0</td></tr>",
                            "<tr><td>7</td><td>22</td><td>30</td><td>0</td></tr>",
                            "<tr><td>7</td><td>23</td><td>33</td><td>0</td></tr>",
                            "<tr><td>7</td><td>24</td><td>14</td><td>0</td></tr>",
                            "<tr><td>7</td><td>25</td><td>15</td><td>0</td></tr>",
                            "<tr><td>7</td><td>26</td><td>15</td><td>0</td></tr>",
                            "<tr><td>7</td><td>27</td><td>20</td><td>0</td></tr>",
                            "<tr><td>7</td><td>28</td><td>19</td><td>0</td></tr>",
                            "<tr><td>7</td><td>29</td><td>14</td><td>0</td></tr>",
                            "<tr><td>7</td><td>30</td><td>12</td><td>0</td></tr>",
                            "<tr><td>7</td><td>31</td><td>5</td><td>0</td></tr>",
                            "<tr><td>7</td><td>NULL</td><td>355</td><td>1</td></tr>",
                            "<tr><td>8</td><td>1</td><td>15</td><td>0</td></tr>",
                            "<tr><td>8</td><td>2</td><td>11</td><td>0</td></tr>",
                            "<tr><td>8</td><td>3</td><td>9</td><td>0</td></tr>",
                            "<tr><td>8</td><td>4</td><td>2</td><td>0</td></tr>",
                            "<tr><td>8</td><td>5</td><td>5</td><td>0</td></tr>",
                            "<tr><td>8</td><td>6</td><td>10</td><td>0</td></tr>",
                            "<tr><td>8</td><td>7</td><td>2</td><td>0</td></tr>",
                            "<tr><td>8</td><td>8</td><td>13</td><td>0</td></tr>",
                            "<tr><td>8</td><td>9</td><td>13</td><td>0</td></tr>",
                            "<tr><td>8</td><td>10</td><td>13</td><td>0</td></tr>",
                            "<tr><td>8</td><td>11</td><td>12</td><td>0</td></tr>",
                            "<tr><td>8</td><td>12</td><td>11</td><td>0</td></tr>",
                            "<tr><td>8</td><td>13</td><td>17</td><td>0</td></tr>",
                            "<tr><td>8</td><td>14</td><td>2</td><td>0</td></tr>",
                            "<tr><td>8</td><td>15</td><td>1</td><td>0</td></tr>",
                            "<tr><td>8</td><td>16</td><td>1</td><td>0</td></tr>",
                            "<tr><td>8</td><td>17</td><td>7</td><td>0</td></tr>",
                            "<tr><td>8</td><td>18</td><td>1</td><td>0</td></tr>",
                            "<tr><td>8</td><td>19</td><td>2</td><td>0</td></tr>",
                            "<tr><td>8</td><td>20</td><td>13</td><td>0</td></tr>",
                            "<tr><td>8</td><td>21</td><td>9</td><td>0</td></tr>",
                            "<tr><td>8</td><td>22</td><td>6</td><td>0</td></tr>",
                            "<tr><td>8</td><td>23</td><td>2</td><td>0</td></tr>",
                            "<tr><td>8</td><td>24</td><td>2</td><td>0</td></tr>",
                            "<tr><td>8</td><td>25</td><td>2</td><td>0</td></tr>",
                            "<tr><td>8</td><td>26</td><td>5</td><td>0</td></tr>",
                            "<tr><td>8</td><td>27</td><td>1</td><td>0</td></tr>",
                            "<tr><td>8</td><td>28</td><td>1</td><td>0</td></tr>",
                            "<tr><td>8</td><td>29</td><td>6</td><td>0</td></tr>",
                            "<tr><td>8</td><td>NULL</td><td>194</td><td>1</td></tr>",
                            "<tr><td>9</td><td>3</td><td>1</td><td>0</td></tr>",
                            "<tr><td>9</td><td>NULL</td><td>1</td><td>1</td></tr>",
                            "<tr><td>12</td><td>11</td><td>1</td><td>0</td></tr>",
                            "<tr><td>12</td><td>NULL</td><td>1</td><td>1</td></tr>",
                            "<tr><td>NULL</td><td>NULL</td><td>551</td><td>3</td></tr>",
                            "</table>"
                        ]
                    }
                }
            ],
            "execution_count": 24
        }
    ]
}
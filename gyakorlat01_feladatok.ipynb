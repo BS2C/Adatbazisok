{
    "metadata": {
        "kernelspec": {
            "name": "SQL",
            "display_name": "SQL",
            "language": "sql"
        },
        "language_info": {
            "name": "sql",
            "version": ""
        },
        "extensions": {
            "azuredatastudio": {
                "version": 1,
                "views": []
            }
        }
    },
    "nbformat_minor": 2,
    "nbformat": 4,
    "cells": [
        {
            "cell_type": "markdown",
            "source": [
                "1. Listázzuk a <span style=\"color: #800000;\">`kolcsonzes`</span> tábla következő oszlopait: ID, ki\\_datum, vissza\\_datum! \n",
                "\n",
                "  \n",
                "\n",
                "a.  Az ID oszlop neve legyen Azonosító\n",
                "\n",
                "b.  A ki\\_datum oszlop neve legyen Kölcsönzés\\_dátuma\n",
                "\n",
                "c.  A vissza\\_datum oszlop neve legyen Visszahozatal\\_dátuma"
            ],
            "metadata": {
                "azdata_cell_guid": "77f2d5b3-38e9-41cc-893f-f5afd02b97ef"
            },
            "attachments": {}
        },
        {
            "cell_type": "code",
            "source": [
                "SELECT ID AS 'Azonosító',\r\n",
                "       ki_datum AS 'Kölcsönzés dátuma',\r\n",
                "       vissza_datum AS 'Visszahozatal dátuma' -- visszahozatal dátuma\r\n",
                "FROM kolcsonzesek"
            ],
            "metadata": {
                "azdata_cell_guid": "bd3cef1a-4e6e-4ece-9dc3-aaa9d2b5d66d",
                "language": "sql",
                "tags": [
                    "hide_input"
                ]
            },
            "outputs": [
                {
                    "output_type": "display_data",
                    "data": {
                        "text/html": "(5 rows affected)"
                    },
                    "metadata": {}
                },
                {
                    "output_type": "display_data",
                    "data": {
                        "text/html": "Total execution time: 00:00:00.007"
                    },
                    "metadata": {}
                },
                {
                    "output_type": "execute_result",
                    "metadata": {},
                    "execution_count": 2,
                    "data": {
                        "application/vnd.dataresource+json": {
                            "schema": {
                                "fields": [
                                    {
                                        "name": "Azonosító"
                                    },
                                    {
                                        "name": "Kölcsönzés dátuma"
                                    },
                                    {
                                        "name": "Visszahozatal dátuma"
                                    }
                                ]
                            },
                            "data": [
                                {
                                    "Azonosító": "10",
                                    "Kölcsönzés dátuma": "2003-12-11",
                                    "Visszahozatal dátuma": "NULL"
                                },
                                {
                                    "Azonosító": "11",
                                    "Kölcsönzés dátuma": "2003-12-11",
                                    "Visszahozatal dátuma": "NULL"
                                },
                                {
                                    "Azonosító": "12",
                                    "Kölcsönzés dátuma": "2003-12-11",
                                    "Visszahozatal dátuma": "NULL"
                                },
                                {
                                    "Azonosító": "13",
                                    "Kölcsönzés dátuma": "2006-10-01",
                                    "Visszahozatal dátuma": "2006-10-10"
                                },
                                {
                                    "Azonosító": "14",
                                    "Kölcsönzés dátuma": "2006-10-02",
                                    "Visszahozatal dátuma": "2006-10-09"
                                }
                            ]
                        },
                        "text/html": [
                            "<table>",
                            "<tr><th>Azonosító</th><th>Kölcsönzés dátuma</th><th>Visszahozatal dátuma</th></tr>",
                            "<tr><td>10</td><td>2003-12-11</td><td>NULL</td></tr>",
                            "<tr><td>11</td><td>2003-12-11</td><td>NULL</td></tr>",
                            "<tr><td>12</td><td>2003-12-11</td><td>NULL</td></tr>",
                            "<tr><td>13</td><td>2006-10-01</td><td>2006-10-10</td></tr>",
                            "<tr><td>14</td><td>2006-10-02</td><td>2006-10-09</td></tr>",
                            "</table>"
                        ]
                    }
                }
            ],
            "execution_count": 2
        },
        {
            "cell_type": "markdown",
            "source": [
                "2. Melyek azok a kölcsönzések, amelyek 2005.01.01 és 2007.01.01 között történtek?"
            ],
            "metadata": {
                "azdata_cell_guid": "88f5b4bb-f4c1-4bad-a0c7-b2592687b422"
            },
            "attachments": {}
        },
        {
            "cell_type": "code",
            "source": [
                "SELECT * -- az összes oszlop kiválasztása\r\n",
                "FROM kolcsonzesek\r\n",
                "WHERE ki_datum >= '2005.01.01' AND \r\n",
                "      ki_datum <= '2007.01.01'\r\n",
                "-- WHERE ki_datum BETWEEN '2005.01.01' AND '2007.01.01'"
            ],
            "metadata": {
                "azdata_cell_guid": "e9de5726-f036-4fb9-8c33-a873955ed886",
                "language": "sql",
                "tags": [
                    "hide_input"
                ]
            },
            "outputs": [
                {
                    "output_type": "display_data",
                    "data": {
                        "text/html": "(2 rows affected)"
                    },
                    "metadata": {}
                },
                {
                    "output_type": "display_data",
                    "data": {
                        "text/html": "Total execution time: 00:00:00.005"
                    },
                    "metadata": {}
                },
                {
                    "output_type": "execute_result",
                    "metadata": {},
                    "execution_count": 3,
                    "data": {
                        "application/vnd.dataresource+json": {
                            "schema": {
                                "fields": [
                                    {
                                        "name": "ID"
                                    },
                                    {
                                        "name": "ki"
                                    },
                                    {
                                        "name": "mit"
                                    },
                                    {
                                        "name": "ki_datum"
                                    },
                                    {
                                        "name": "vissza_datum"
                                    }
                                ]
                            },
                            "data": [
                                {
                                    "ID": "13",
                                    "ki": "1",
                                    "mit": "3",
                                    "ki_datum": "2006-10-01",
                                    "vissza_datum": "2006-10-10"
                                },
                                {
                                    "ID": "14",
                                    "ki": "2",
                                    "mit": "3",
                                    "ki_datum": "2006-10-02",
                                    "vissza_datum": "2006-10-09"
                                }
                            ]
                        },
                        "text/html": [
                            "<table>",
                            "<tr><th>ID</th><th>ki</th><th>mit</th><th>ki_datum</th><th>vissza_datum</th></tr>",
                            "<tr><td>13</td><td>1</td><td>3</td><td>2006-10-01</td><td>2006-10-10</td></tr>",
                            "<tr><td>14</td><td>2</td><td>3</td><td>2006-10-02</td><td>2006-10-09</td></tr>",
                            "</table>"
                        ]
                    }
                }
            ],
            "execution_count": 3
        },
        {
            "cell_type": "markdown",
            "source": [
                "3. Melyek azok a tagok, akiknek kedvenc stílusa a játék, és nevük a-ra végződik?\n",
                "\n",
                "  \n",
                "\n",
                "a.  Csak a tagok neve jelenjen meg, az oszlop neve Név legyen"
            ],
            "metadata": {
                "azdata_cell_guid": "9e7249de-1b59-43d8-84b1-26fa7d81fc5a"
            },
            "attachments": {}
        },
        {
            "cell_type": "code",
            "source": [
                "SELECT nev AS 'NÉV'\r\n",
                "FROM tagok\r\n",
                "WHERE kedvencstilus = 'játék' AND\r\n",
                " nev LIKE '%a'"
            ],
            "metadata": {
                "azdata_cell_guid": "6405d3e8-a9b1-45d7-aa76-3b1e785ef6cc",
                "language": "sql",
                "tags": [
                    "hide_input"
                ]
            },
            "outputs": [
                {
                    "output_type": "display_data",
                    "data": {
                        "text/html": "(2 rows affected)"
                    },
                    "metadata": {}
                },
                {
                    "output_type": "display_data",
                    "data": {
                        "text/html": "Total execution time: 00:00:00.009"
                    },
                    "metadata": {}
                },
                {
                    "output_type": "execute_result",
                    "metadata": {},
                    "execution_count": 12,
                    "data": {
                        "application/vnd.dataresource+json": {
                            "schema": {
                                "fields": [
                                    {
                                        "name": "NÉV"
                                    }
                                ]
                            },
                            "data": [
                                {
                                    "NÉV": "Bodó Kinga"
                                },
                                {
                                    "NÉV": "Garay Magdolna"
                                }
                            ]
                        },
                        "text/html": [
                            "<table>",
                            "<tr><th>NÉV</th></tr>",
                            "<tr><td>Bodó Kinga</td></tr>",
                            "<tr><td>Garay Magdolna</td></tr>",
                            "</table>"
                        ]
                    }
                }
            ],
            "execution_count": 12
        },
        {
            "cell_type": "markdown",
            "source": [
                "4. Listázzuk egy oszlopban a tagok nevét, címét és kedvenc stílusát összefűzve! \n",
                "\n",
                "  \n",
                "\n",
                "a.  A nevet, címet és a stílust kötőjellel válasszuk el\n",
                "\n",
                "b.  A kötőjelek előtt és után legyen 1-1 szóköz\n",
                "\n",
                "c.  Az oszlop neve legyen TAG\n",
                "\n",
                "d.  Kinga keresztnevű tagok ne legyenek benne a listában"
            ],
            "metadata": {
                "azdata_cell_guid": "6478e469-c094-472c-a772-ccd5b5c61516"
            },
            "attachments": {}
        },
        {
            "cell_type": "code",
            "source": [
                ""
            ],
            "metadata": {
                "azdata_cell_guid": "02031ea2-3838-458d-839c-228e3b362b61",
                "language": "sql",
                "tags": [
                    "hide_input"
                ]
            },
            "outputs": [],
            "execution_count": null
        },
        {
            "cell_type": "markdown",
            "source": [
                "5. Mennyi lenne a dvd-k nettó ára, ha 20%-kal csökkenne? \n",
                "\n",
                "  \n",
                "\n",
                "a.  Csak a dvd-k címét és a csökkentett árat jelenítsük meg\n",
                "\n",
                "b.  A csökkentett árat nevezzük el diszkont\\_ar-nak"
            ],
            "metadata": {
                "azdata_cell_guid": "9edbbaf9-c276-4898-9a01-e1b2993c089f"
            },
            "attachments": {}
        },
        {
            "cell_type": "code",
            "source": [
                "SELECT nettoar * 0.8 AS 'diszkont_ar',\r\n",
                "        cim\r\n",
                "FROM dvd"
            ],
            "metadata": {
                "azdata_cell_guid": "5ad5fdcb-2878-4111-861a-833bcd50e935",
                "language": "sql",
                "tags": [
                    "hide_input"
                ]
            },
            "outputs": [
                {
                    "output_type": "display_data",
                    "data": {
                        "text/html": "(318 rows affected)"
                    },
                    "metadata": {}
                },
                {
                    "output_type": "display_data",
                    "data": {
                        "text/html": "Total execution time: 00:00:00.010"
                    },
                    "metadata": {}
                },
                {
                    "output_type": "execute_result",
                    "metadata": {},
                    "execution_count": 15,
                    "data": {
                        "application/vnd.dataresource+json": {
                            "schema": {
                                "fields": [
                                    {
                                        "name": "diszkont_ar"
                                    },
                                    {
                                        "name": "cim"
                                    }
                                ]
                            },
                            "data": [
                                {
                                    "diszkont_ar": "3087,2000000000003",
                                    "cim": "NULL"
                                },
                                {
                                    "diszkont_ar": "3395,2000000000003",
                                    "cim": "A II. világháború története (1999)"
                                },
                                {
                                    "diszkont_ar": "4032,8",
                                    "cim": "3D Dinosaur - adventure"
                                },
                                {
                                    "diszkont_ar": "4284",
                                    "cim": "3D virtuális origami (2000)"
                                },
                                {
                                    "diszkont_ar": "4560",
                                    "cim": "Az 1848-1849-iki szabadságharc története (2002)"
                                },
                                {
                                    "diszkont_ar": "2832",
                                    "cim": "Ablak zsiráf (1999)"
                                },
                                {
                                    "diszkont_ar": "3392,8",
                                    "cim": "Ady Endre összes művei (1999)"
                                },
                                {
                                    "diszkont_ar": "4254,400000000001",
                                    "cim": "Afrika"
                                },
                                {
                                    "diszkont_ar": "3585,6000000000004",
                                    "cim": "Age of Empires (2000)"
                                },
                                {
                                    "diszkont_ar": "3448,8",
                                    "cim": "Airport Inc."
                                },
                                {
                                    "diszkont_ar": "4472,8",
                                    "cim": "American Rodeo : BullRider 2000 (2001)"
                                },
                                {
                                    "diszkont_ar": "3882,4",
                                    "cim": "Angol : 8-10 éveseknek (2002)"
                                },
                                {
                                    "diszkont_ar": "3924,8",
                                    "cim": "Angol és német nyelvtani gyakorlatok (2002)"
                                },
                                {
                                    "diszkont_ar": "3559,2000000000003",
                                    "cim": "Angol szótanító CD-ROM"
                                },
                                {
                                    "diszkont_ar": "3555,2000000000003",
                                    "cim": "Angol szótanító CD-ROM"
                                },
                                {
                                    "diszkont_ar": "2807,2000000000003",
                                    "cim": "Angol szótár (1996)"
                                },
                                {
                                    "diszkont_ar": "4120,8",
                                    "cim": "Angol-magyar, Magyar-angol hangosszótár"
                                },
                                {
                                    "diszkont_ar": "4510,400000000001",
                                    "cim": "Angol-magyar nagyszótár (Halász Előd)"
                                },
                                {
                                    "diszkont_ar": "4564,8",
                                    "cim": "Az áramvonalas fakanál"
                                },
                                {
                                    "diszkont_ar": "2712,8",
                                    "cim": "Arany János: A bajusz (2002)"
                                },
                                {
                                    "diszkont_ar": "4017,6000000000004",
                                    "cim": "Az Árpád-ház története"
                                },
                                {
                                    "diszkont_ar": "3131,2000000000003",
                                    "cim": "Art Attack (1998)"
                                },
                                {
                                    "diszkont_ar": "4628,8",
                                    "cim": "Art puzzle (1998)"
                                },
                                {
                                    "diszkont_ar": "4499,2",
                                    "cim": "Az ásványok világa"
                                },
                                {
                                    "diszkont_ar": "4260,8",
                                    "cim": "Ausztrália"
                                },
                                {
                                    "diszkont_ar": "3570,4",
                                    "cim": "Auto 2000 - Kerékvilág"
                                },
                                {
                                    "diszkont_ar": "2498,4",
                                    "cim": "Ázsia (2000)"
                                },
                                {
                                    "diszkont_ar": "3552",
                                    "cim": "Biblia (1995)"
                                },
                                {
                                    "diszkont_ar": "4434,400000000001",
                                    "cim": "Biológia '97"
                                },
                                {
                                    "diszkont_ar": "3055,2000000000003",
                                    "cim": "Biológia (2000)"
                                },
                                {
                                    "diszkont_ar": "3033,6000000000004",
                                    "cim": "Biológia (2001)"
                                },
                                {
                                    "diszkont_ar": "2785,6000000000004",
                                    "cim": "Biológia : 12-14 éveseknek (2003)"
                                },
                                {
                                    "diszkont_ar": "3260,8",
                                    "cim": "Blinky Bill : A fantasztikus léggömbkaland"
                                },
                                {
                                    "diszkont_ar": "3601,6000000000004",
                                    "cim": "Broken Sword II. (cop. 1997)"
                                },
                                {
                                    "diszkont_ar": "3243,2000000000003",
                                    "cim": "Budapest kalauz"
                                },
                                {
                                    "diszkont_ar": "4233,6",
                                    "cim": "Budapest Museum"
                                },
                                {
                                    "diszkont_ar": "4664",
                                    "cim": "Buggy"
                                },
                                {
                                    "diszkont_ar": "2621,6000000000004",
                                    "cim": "Byte Magyarország (2002)"
                                },
                                {
                                    "diszkont_ar": "3308,8",
                                    "cim": "Caesar III."
                                },
                                {
                                    "diszkont_ar": "4849,6",
                                    "cim": "Capitalism II. (2001)"
                                },
                                {
                                    "diszkont_ar": "4024",
                                    "cim": "Capitalism Plus"
                                },
                                {
                                    "diszkont_ar": "2965,6000000000004",
                                    "cim": "Castle Explorer"
                                },
                                {
                                    "diszkont_ar": "4337,6",
                                    "cim": "CD Panoráma 1-4. (1998)"
                                },
                                {
                                    "diszkont_ar": "4208",
                                    "cim": "Computer iskola (1998)"
                                },
                                {
                                    "diszkont_ar": "4745,6",
                                    "cim": "Csizmás kandúr (1998)"
                                },
                                {
                                    "diszkont_ar": "3269,6000000000004",
                                    "cim": "Csodálatos univerzum (1997)"
                                },
                                {
                                    "diszkont_ar": "3199,2000000000003",
                                    "cim": "Dél-Amerika (1999)"
                                },
                                {
                                    "diszkont_ar": "4735,2",
                                    "cim": "Dementia 1-5. (1997)"
                                },
                                {
                                    "diszkont_ar": "4506,400000000001",
                                    "cim": "Deutsch: Anfanger (kezdő) + Telepítő "
                                },
                                {
                                    "diszkont_ar": "4627,2",
                                    "cim": "Deutsch: Fortgeschrittene (haladó) + Installation"
                                },
                                {
                                    "diszkont_ar": "3501,6000000000004",
                                    "cim": "Deutsch: Mittelstufe (középhaladó)+ Telepítő"
                                },
                                {
                                    "diszkont_ar": "4775,2",
                                    "cim": "Diablo"
                                },
                                {
                                    "diszkont_ar": "3920",
                                    "cim": "Diablo II. (2000)"
                                },
                                {
                                    "diszkont_ar": "4488,8",
                                    "cim": "Dicső napok és hétköznapok 1848 - Digitális forrásgyűjtemény 1."
                                },
                                {
                                    "diszkont_ar": "3759,2000000000003",
                                    "cim": "Dreams to Reality 1-2. (1997)"
                                },
                                {
                                    "diszkont_ar": "4379,2",
                                    "cim": "Duke Nukem 3D"
                                },
                                {
                                    "diszkont_ar": "2695,2000000000003",
                                    "cim": "Dungeon Keeper 2. (1999)"
                                },
                                {
                                    "diszkont_ar": "4466,400000000001",
                                    "cim": "E-Games : Collector's Edition (2001)"
                                },
                                {
                                    "diszkont_ar": "2606,4",
                                    "cim": "Éléstár (1998)"
                                },
                                {
                                    "diszkont_ar": "4457,6",
                                    "cim": "Élet a polgárosodó Magyarországon (2001)"
                                },
                                {
                                    "diszkont_ar": "3368,8",
                                    "cim": "Életképek 1848 (1998)"
                                },
                                {
                                    "diszkont_ar": "3436",
                                    "cim": "Az ember tragédiája"
                                },
                                {
                                    "diszkont_ar": "4267,2",
                                    "cim": "Encarta World Atlas '99 1-2. (1998)"
                                },
                                {
                                    "diszkont_ar": "4173,6",
                                    "cim": "Enemy Engaged RAH-66"
                                },
                                {
                                    "diszkont_ar": "4172",
                                    "cim": "English 1-2. + Telepítő"
                                },
                                {
                                    "diszkont_ar": "2901,6000000000004",
                                    "cim": "English: Intermediate (haladó)"
                                },
                                {
                                    "diszkont_ar": "3582,4",
                                    "cim": "English by Stealth  lásd: Lopva angolul"
                                },
                                {
                                    "diszkont_ar": "3999,2000000000003",
                                    "cim": "Erdély (1996)"
                                },
                                {
                                    "diszkont_ar": "3131,2000000000003",
                                    "cim": "Espanol: Intermedio + Telepítő"
                                },
                                {
                                    "diszkont_ar": "4705,6",
                                    "cim": "Espanol: Principiante + Telepítő"
                                },
                                {
                                    "diszkont_ar": "3195,2000000000003",
                                    "cim": "Észak-Amerika"
                                },
                                {
                                    "diszkont_ar": "4216",
                                    "cim": "Európa"
                                },
                                {
                                    "diszkont_ar": "3096,8",
                                    "cim": "The F.A. Premier League Stars 2001"
                                },
                                {
                                    "diszkont_ar": "3100,8",
                                    "cim": "Felvételi példatár : Angol"
                                },
                                {
                                    "diszkont_ar": "2572",
                                    "cim": "Felvételi példatár : Biológia, földrajz"
                                },
                                {
                                    "diszkont_ar": "4680,8",
                                    "cim": "Felvételi példatár : Kémia, fizika"
                                },
                                {
                                    "diszkont_ar": "4764",
                                    "cim": "Felvételi példatár : Magyar nyelv és irodalom"
                                },
                                {
                                    "diszkont_ar": "4007,2000000000003",
                                    "cim": "Felvételi példatár : Matematika"
                                },
                                {
                                    "diszkont_ar": "2481,6000000000004",
                                    "cim": "Felvételi példatár : Német"
                                },
                                {
                                    "diszkont_ar": "4047,2000000000003",
                                    "cim": "FIFA, 2000 (1999)"
                                },
                                {
                                    "diszkont_ar": "3840",
                                    "cim": "Fighting Force (1998)"
                                },
                                {
                                    "diszkont_ar": "3705,6000000000004",
                                    "cim": "Final Liberation (1997)"
                                },
                                {
                                    "diszkont_ar": "3685,6000000000004",
                                    "cim": "Fitness mesterfokon / Béres Alexandra (2001)"
                                },
                                {
                                    "diszkont_ar": "2987,2000000000003",
                                    "cim": "Fizika : 12-14 éveseknek (2002)"
                                },
                                {
                                    "diszkont_ar": "3848",
                                    "cim": "Fizika felkészítő az érettségi és felvételi vizsgára"
                                },
                                {
                                    "diszkont_ar": "4610,400000000001",
                                    "cim": "Fizika világa (2001)"
                                },
                                {
                                    "diszkont_ar": "4720",
                                    "cim": "A Föld élővilága"
                                },
                                {
                                    "diszkont_ar": "3144",
                                    "cim": "Földrajz: 10-14 éveseknek (2002)"
                                },
                                {
                                    "diszkont_ar": "2538,4",
                                    "cim": "Földrajz: érettségi előkészítő (2002)"
                                },
                                {
                                    "diszkont_ar": "3230,4",
                                    "cim": "Francais 1-2. + Telepítő"
                                },
                                {
                                    "diszkont_ar": "3016",
                                    "cim": "Francais: Débutan (kezdő) + Telepítő"
                                },
                                {
                                    "diszkont_ar": "4495,2",
                                    "cim": "Francais: Moyen + Telepítő"
                                },
                                {
                                    "diszkont_ar": "2852,8",
                                    "cim": "Francia-magyar szótár"
                                },
                                {
                                    "diszkont_ar": "3812,8",
                                    "cim": "Funschool in Dreamland (1995)"
                                },
                                {
                                    "diszkont_ar": "3681,6000000000004",
                                    "cim": "Geolexikon 4.2 : földtani adatbázis (2002)"
                                },
                                {
                                    "diszkont_ar": "3148,8",
                                    "cim": "Gépírás 2000"
                                },
                                {
                                    "diszkont_ar": "4276,8",
                                    "cim": "Gondolattár: aforizmák, szállóigék"
                                },
                                {
                                    "diszkont_ar": "4004",
                                    "cim": "GTA 2"
                                },
                                {
                                    "diszkont_ar": "4099,2",
                                    "cim": "Hadiflották I. (2002)"
                                },
                                {
                                    "diszkont_ar": "2812",
                                    "cim": "Hadtudományi lexikon (1998)"
                                },
                                {
                                    "diszkont_ar": "3024,8",
                                    "cim": "Hajdúböszörmény"
                                },
                                {
                                    "diszkont_ar": "3322,4",
                                    "cim": "Halak, kétéltűek, hüllők"
                                },
                                {
                                    "diszkont_ar": "4324",
                                    "cim": "Half-Life (1996)"
                                },
                                {
                                    "diszkont_ar": "2964",
                                    "cim": "Half-Life Generation: Game of the Year Edition (2002)"
                                },
                                {
                                    "diszkont_ar": "4595,2",
                                    "cim": "Half-Life Generation: Counter Strike (2002)"
                                },
                                {
                                    "diszkont_ar": "4582,400000000001",
                                    "cim": "Half-Life Generation: Blue Shift (2002)"
                                },
                                {
                                    "diszkont_ar": "3577,6000000000004",
                                    "cim": "Harry Potter és a bölcsek köve (2001)"
                                },
                                {
                                    "diszkont_ar": "2784,8",
                                    "cim": "Haza és haladás"
                                },
                                {
                                    "diszkont_ar": "2529,6000000000004",
                                    "cim": "A hét világcsoda (2001)"
                                },
                                {
                                    "diszkont_ar": "3429,6000000000004",
                                    "cim": "Home Desing 3D (1998)"
                                },
                                {
                                    "diszkont_ar": "2488",
                                    "cim": "Hupikék törpikék: teletransportörp (1999)"
                                },
                                {
                                    "diszkont_ar": "2986,4",
                                    "cim": "Informatika - Internet - Iskola"
                                },
                                {
                                    "diszkont_ar": "3673,6000000000004",
                                    "cim": "Interaktív angol nyelvész kurzus haladó szint 1-5."
                                },
                                {
                                    "diszkont_ar": "3346,4",
                                    "cim": "Interaktív angol nyelvész kurzus kezdő szint"
                                },
                                {
                                    "diszkont_ar": "2492",
                                    "cim": "Interaktív angol nyelvész kurzus középhaladó szint"
                                },
                                {
                                    "diszkont_ar": "3823,2000000000003",
                                    "cim": "Interaktív magyar nyelvtan"
                                },
                                {
                                    "diszkont_ar": "3112",
                                    "cim": "International Rally Championship"
                                },
                                {
                                    "diszkont_ar": "3947,2000000000003",
                                    "cim": "Internet (1996)"
                                },
                                {
                                    "diszkont_ar": "3018,4",
                                    "cim": "Introduction to Archeology"
                                },
                                {
                                    "diszkont_ar": "3515,2000000000003",
                                    "cim": "Investigating 20th Century Art (1994)"
                                },
                                {
                                    "diszkont_ar": "4065,6000000000004",
                                    "cim": "Az ipari forradalom kora (2000)"
                                },
                                {
                                    "diszkont_ar": "3092,8",
                                    "cim": "Irodalmi arcképcsarnok"
                                },
                                {
                                    "diszkont_ar": "4523,2",
                                    "cim": "Irodalom  felkészítő az érettségi és felvételi vizsgára"
                                },
                                {
                                    "diszkont_ar": "4500",
                                    "cim": "Irodalom (1998)"
                                },
                                {
                                    "diszkont_ar": "4348,8",
                                    "cim": "Italiano (1998) + Installation"
                                },
                                {
                                    "diszkont_ar": "4865,6",
                                    "cim": "Italiano 1-2. (1998) + Installation"
                                },
                                {
                                    "diszkont_ar": "2735,2000000000003",
                                    "cim": "Italiano 1-2. (1998) + Installation"
                                },
                                {
                                    "diszkont_ar": "3363,2000000000003",
                                    "cim": "Jancsó"
                                },
                                {
                                    "diszkont_ar": "3567,2000000000003",
                                    "cim": "Japán : képes kulturális atlasz (2001)"
                                },
                                {
                                    "diszkont_ar": "2510,4",
                                    "cim": "Játékfilmek 1963-tól napjainkig"
                                },
                                {
                                    "diszkont_ar": "4239,2",
                                    "cim": "Játszóház (1998)"
                                },
                                {
                                    "diszkont_ar": "3814,4",
                                    "cim": "Jókai összes művei (2001)"
                                },
                                {
                                    "diszkont_ar": "3096",
                                    "cim": "József Attila (1998)"
                                },
                                {
                                    "diszkont_ar": "4857,6",
                                    "cim": "A jövő titkai - Interaktív horoszkóp (1998)"
                                },
                                {
                                    "diszkont_ar": "2485,6000000000004",
                                    "cim": "Kártyaváros"
                                },
                                {
                                    "diszkont_ar": "4075,2000000000003",
                                    "cim": "Kémia Kalauz 2."
                                },
                                {
                                    "diszkont_ar": "4676",
                                    "cim": "A kémkedés és a hírszerzés története (2002)"
                                },
                                {
                                    "diszkont_ar": "3144,8",
                                    "cim": "Képes krónika (1996)"
                                },
                                {
                                    "diszkont_ar": "4326,400000000001",
                                    "cim": "Képtárak (1995)"
                                },
                                {
                                    "diszkont_ar": "3441,6000000000004",
                                    "cim": "Kereszt és félhold"
                                },
                                {
                                    "diszkont_ar": "4367,2",
                                    "cim": "Kétfejű sas: A Habsburg-uralom Magyarországon (1699-1790)"
                                },
                                {
                                    "diszkont_ar": "3863,2000000000003",
                                    "cim": "Kettős kötődés: Az Osztrák-Magyar Monarchia (1867-1918)"
                                },
                                {
                                    "diszkont_ar": "3640",
                                    "cim": "Kínai falatok"
                                },
                                {
                                    "diszkont_ar": "2604,8",
                                    "cim": "Királyi könyvek 1-9. kötet"
                                },
                                {
                                    "diszkont_ar": "4405,6",
                                    "cim": "Királyi könyvek 18-26. kötet"
                                },
                                {
                                    "diszkont_ar": "4380,8",
                                    "cim": "Királyi könyvek 27-38. kötet : 1703-1740 (2002)"
                                },
                                {
                                    "diszkont_ar": "4584",
                                    "cim": "Kispál és a borz (1998)"
                                },
                                {
                                    "diszkont_ar": "3671,2000000000003",
                                    "cim": "Kossuth Lajos összes munkái (2002)"
                                },
                                {
                                    "diszkont_ar": "4406,400000000001",
                                    "cim": "Környezetvédelmi kalauz (1999)"
                                },
                                {
                                    "diszkont_ar": "2875,2000000000003",
                                    "cim": "Kötelező olvasmányok könyvtára 1. (2002)"
                                },
                                {
                                    "diszkont_ar": "4430,400000000001",
                                    "cim": "A kőszívű ember fiai - Egri csillagok"
                                },
                                {
                                    "diszkont_ar": "3970,4",
                                    "cim": "A kutyák: A család kedvencei"
                                },
                                {
                                    "diszkont_ar": "4188",
                                    "cim": "Kutyatár"
                                },
                                {
                                    "diszkont_ar": "2760,8",
                                    "cim": "KvízIQ : A hét világcsoda (2001)"
                                },
                                {
                                    "diszkont_ar": "4677,6",
                                    "cim": "Lakáskultúra 2000 (2000)"
                                },
                                {
                                    "diszkont_ar": "4331,2",
                                    "cim": "Lakáskultúra 1999 (1999)"
                                },
                                {
                                    "diszkont_ar": "4392,8",
                                    "cim": "Lakáskultúra 1998 (1998)"
                                },
                                {
                                    "diszkont_ar": "2735,2000000000003",
                                    "cim": "Lakáskultúra 1997 (1997)"
                                },
                                {
                                    "diszkont_ar": "3367,2000000000003",
                                    "cim": "Lakáskultúra 1996 (1996)"
                                },
                                {
                                    "diszkont_ar": "3449,6000000000004",
                                    "cim": "Lands of Lore II. 1-4. (1997)"
                                },
                                {
                                    "diszkont_ar": "3960,8",
                                    "cim": "Landscape Design 3D (1998)"
                                },
                                {
                                    "diszkont_ar": "4066,4",
                                    "cim": "Legféltettebb természeti értékeink"
                                },
                                {
                                    "diszkont_ar": "3550,4",
                                    "cim": "Legszebb vadnövényeink"
                                },
                                {
                                    "diszkont_ar": "4094,4",
                                    "cim": "Leonardo da Vinci"
                                },
                                {
                                    "diszkont_ar": "2915,2000000000003",
                                    "cim": "Lilenthal Andor sakkjátszmái"
                                },
                                {
                                    "diszkont_ar": "4344,8",
                                    "cim": "Lopva angolul /English by Stealth 1."
                                },
                                {
                                    "diszkont_ar": "3677,6000000000004",
                                    "cim": "Lopva angolul /English by Stealth 2."
                                },
                                {
                                    "diszkont_ar": "3880,8",
                                    "cim": "Lopva angolul /English by Stealth 3."
                                },
                                {
                                    "diszkont_ar": "3494,4",
                                    "cim": "Lovagkirályok (1301-1437) (1997)"
                                },
                                {
                                    "diszkont_ar": "2900,8",
                                    "cim": "LoveQ, SexQ : szerelmi intelligencia (2001)"
                                },
                                {
                                    "diszkont_ar": "4784,8",
                                    "cim": "M1 Tank (1998)"
                                },
                                {
                                    "diszkont_ar": "3705,6000000000004",
                                    "cim": "Mackó úr (2002)"
                                },
                                {
                                    "diszkont_ar": "2726,4",
                                    "cim": "Madárdalos kirándulások - Madártani oktató CD-ROM (1999)"
                                },
                                {
                                    "diszkont_ar": "3228",
                                    "cim": "Magyar bélyegek katalógusa"
                                },
                                {
                                    "diszkont_ar": "3076",
                                    "cim": "Magyar fontok '97"
                                },
                                {
                                    "diszkont_ar": "3297,6000000000004",
                                    "cim": "A Magyar Koronázási Jelvények"
                                },
                                {
                                    "diszkont_ar": "3763,2000000000003",
                                    "cim": "Magyar nyelv és irodalom"
                                },
                                {
                                    "diszkont_ar": "4126,400000000001",
                                    "cim": "Magyar színházművészet a világban"
                                },
                                {
                                    "diszkont_ar": "3936,8",
                                    "cim": "Magyarország, 1944-1956 (2001)"
                                },
                                {
                                    "diszkont_ar": "2938,4",
                                    "cim": "Magyarország, 1944-1956 (2001)"
                                },
                                {
                                    "diszkont_ar": "2678,4",
                                    "cim": "Magyarország Nemzeti Parkjai I."
                                },
                                {
                                    "diszkont_ar": "2701,6000000000004",
                                    "cim": "Magyarország Nemzeti Parkjai II."
                                },
                                {
                                    "diszkont_ar": "4367,2",
                                    "cim": "Magyarországi várak (1998)"
                                },
                                {
                                    "diszkont_ar": "4338,400000000001",
                                    "cim": "Mahjongg Master (1998)"
                                },
                                {
                                    "diszkont_ar": "4681,6",
                                    "cim": "Manó Angol 1."
                                },
                                {
                                    "diszkont_ar": "4840,8",
                                    "cim": "Manó Angol 1. (2002)"
                                },
                                {
                                    "diszkont_ar": "4282,400000000001",
                                    "cim": "Manó Angol 2."
                                },
                                {
                                    "diszkont_ar": "4854,400000000001",
                                    "cim": "Manó Angol 2. (2000)"
                                },
                                {
                                    "diszkont_ar": "2779,2000000000003",
                                    "cim": "Manó Élővilág"
                                },
                                {
                                    "diszkont_ar": "3904,8",
                                    "cim": "Manó Élővilág (2002)"
                                },
                                {
                                    "diszkont_ar": "4306,400000000001",
                                    "cim": "Manó IQ (2001)"
                                },
                                {
                                    "diszkont_ar": "4773,6",
                                    "cim": "Manó Kaland (2002)"
                                },
                                {
                                    "diszkont_ar": "3320",
                                    "cim": "Manó Magyarország (2002)"
                                },
                                {
                                    "diszkont_ar": "4796",
                                    "cim": "Manó Matek 1."
                                },
                                {
                                    "diszkont_ar": "4316,8",
                                    "cim": "Manó Matek 1. (2002)"
                                },
                                {
                                    "diszkont_ar": "4454,400000000001",
                                    "cim": "Manó Matek 2. (1999)"
                                },
                                {
                                    "diszkont_ar": "2828,8",
                                    "cim": "Manó Matek 2. (1999)"
                                },
                                {
                                    "diszkont_ar": "3842,4",
                                    "cim": "Manó Matek 3."
                                },
                                {
                                    "diszkont_ar": "3996,8",
                                    "cim": "Manó Muzsika"
                                },
                                {
                                    "diszkont_ar": "2712,8",
                                    "cim": "Manó Muzsika"
                                },
                                {
                                    "diszkont_ar": "3713,6000000000004",
                                    "cim": "Manó Német 2."
                                },
                                {
                                    "diszkont_ar": "4676",
                                    "cim": "Manó Olvasás 1."
                                },
                                {
                                    "diszkont_ar": "4862,400000000001",
                                    "cim": "Manó Puzzle (2002)"
                                },
                                {
                                    "diszkont_ar": "2484",
                                    "cim": "Matematika (1998)"
                                },
                                {
                                    "diszkont_ar": "3692,8",
                                    "cim": "Matematika felkészítő az érettségi és felvételi vizsgára"
                                },
                                {
                                    "diszkont_ar": "2652",
                                    "cim": "Matematika kalauz (1997)"
                                },
                                {
                                    "diszkont_ar": "4032",
                                    "cim": "Mig-29 (1998)"
                                },
                                {
                                    "diszkont_ar": "3828,8",
                                    "cim": "Mikszáth Kálmán összes művei"
                                },
                                {
                                    "diszkont_ar": "3781,6000000000004",
                                    "cim": "Mini Manó Tavasz"
                                },
                                {
                                    "diszkont_ar": "4028,8",
                                    "cim": "MoBi Mouse: A fordító egér"
                                },
                                {
                                    "diszkont_ar": "3179,2000000000003",
                                    "cim": "Monopoly Junior"
                                },
                                {
                                    "diszkont_ar": "3528",
                                    "cim": "Mons Sacer Pannoniae (2001)"
                                },
                                {
                                    "diszkont_ar": "4381,6",
                                    "cim": "Moving Puzzle Action Flight (2000)"
                                },
                                {
                                    "diszkont_ar": "4845,6",
                                    "cim": "Multimédiás Menedzsment Könyvtár 1. - Változásmenedzsment"
                                },
                                {
                                    "diszkont_ar": "2623,2000000000003",
                                    "cim": "Multimédiás Menedzsment Könyvtár 2. - Önszervezés"
                                },
                                {
                                    "diszkont_ar": "4268,8",
                                    "cim": "Musique! (1997)"
                                },
                                {
                                    "diszkont_ar": "4878,400000000001",
                                    "cim": "Művészet és mesterség"
                                },
                                {
                                    "diszkont_ar": "2792",
                                    "cim": "Művészet és művészek (2002)"
                                },
                                {
                                    "diszkont_ar": "3509,6000000000004",
                                    "cim": "Nagy képes világtörténet (Matczáli Henrik) (1998)"
                                },
                                {
                                    "diszkont_ar": "4458,400000000001",
                                    "cim": "Nagy vicc tár"
                                },
                                {
                                    "diszkont_ar": "3901,6000000000004",
                                    "cim": "A Nagybányai Festőiskola (1998)"
                                },
                                {
                                    "diszkont_ar": "4774,400000000001",
                                    "cim": "NASA 1."
                                },
                                {
                                    "diszkont_ar": "3317,6000000000004",
                                    "cim": "NASA 2."
                                },
                                {
                                    "diszkont_ar": "2880",
                                    "cim": "Na, So Was? - Minden helyzetben otthonosan"
                                },
                                {
                                    "diszkont_ar": "3003,2000000000003",
                                    "cim": "Német : 8-10 éveseknek (2002)"
                                },
                                {
                                    "diszkont_ar": "2650,4",
                                    "cim": "Német szótanító CD-ROM"
                                },
                                {
                                    "diszkont_ar": "3597,6000000000004",
                                    "cim": "Németh László összes műve"
                                },
                                {
                                    "diszkont_ar": "2978,4",
                                    "cim": "New York : a tragédiák városa (2001)"
                                },
                                {
                                    "diszkont_ar": "4193,6",
                                    "cim": "NHL 2001"
                                },
                                {
                                    "diszkont_ar": "3482,4",
                                    "cim": "Nincs királyi út - A matematika kultúrtörténete"
                                },
                                {
                                    "diszkont_ar": "2817,6000000000004",
                                    "cim": "Nyelvész : Angol és német haladóknak (1997)"
                                },
                                {
                                    "diszkont_ar": "2950,4",
                                    "cim": "Nyelvtan összefoglaló : érettségi előkészítő (2002)"
                                },
                                {
                                    "diszkont_ar": "4666,400000000001",
                                    "cim": "Az óceán világa - Maldiv szigetek (2000)"
                                },
                                {
                                    "diszkont_ar": "2497,6000000000004",
                                    "cim": "Ókori lexikon"
                                },
                                {
                                    "diszkont_ar": "3285,6000000000004",
                                    "cim": "Olasz-magyar, magyar-olasz digitális szótár"
                                },
                                {
                                    "diszkont_ar": "4086,4",
                                    "cim": "Olasz szótanító CD-ROM"
                                },
                                {
                                    "diszkont_ar": "4807,2",
                                    "cim": "Orosz (1998)"
                                },
                                {
                                    "diszkont_ar": "3732,8",
                                    "cim": "Orosz-magyar nagyszótár"
                                },
                                {
                                    "diszkont_ar": "3802,4",
                                    "cim": "Az Országos Széchényi Könyvtár corvinái, 2002 (2002)"
                                },
                                {
                                    "diszkont_ar": "3487,2000000000003",
                                    "cim": "Az Osztrák-Magyar Monarchia írásban és képekben (2001)"
                                },
                                {
                                    "diszkont_ar": "3149,6000000000004",
                                    "cim": "Paddle Bash (2001)"
                                },
                                {
                                    "diszkont_ar": "3684,8",
                                    "cim": "Pannon Enciklopédia (1998)"
                                },
                                {
                                    "diszkont_ar": "4653,6",
                                    "cim": "Pannonhalmi Főapátság (2001)"
                                },
                                {
                                    "diszkont_ar": "4846,400000000001",
                                    "cim": "Panzer General III: Scorched Earth (2000)"
                                },
                                {
                                    "diszkont_ar": "4498,400000000001",
                                    "cim": "People's General (1998)"
                                },
                                {
                                    "diszkont_ar": "4390,400000000001",
                                    "cim": "Petőfi Sándor: Arany Lacinak (2002)"
                                },
                                {
                                    "diszkont_ar": "3025,6000000000004",
                                    "cim": "Petőfi Sándor összes költeményei"
                                },
                                {
                                    "diszkont_ar": "4008,8",
                                    "cim": "Plane Crazy"
                                },
                                {
                                    "diszkont_ar": "2515,2000000000003",
                                    "cim": "Quake III. (2001)"
                                },
                                {
                                    "diszkont_ar": "3822,4",
                                    "cim": "Rákóczi-szabadságharc"
                                },
                                {
                                    "diszkont_ar": "2484,8",
                                    "cim": "Rally Championship"
                                },
                                {
                                    "diszkont_ar": "3587,2000000000003",
                                    "cim": "Rayman: Matek és olvasás"
                                },
                                {
                                    "diszkont_ar": "3191,2000000000003",
                                    "cim": "Re-Volt (1999)"
                                },
                                {
                                    "diszkont_ar": "3413,6000000000004",
                                    "cim": "The Settlers III. 1-2. (1998)"
                                },
                                {
                                    "diszkont_ar": "3314,4",
                                    "cim": "The Settlers IV. (2001)"
                                },
                                {
                                    "diszkont_ar": "4720",
                                    "cim": "Shanghai (1997)"
                                },
                                {
                                    "diszkont_ar": "3234,4",
                                    "cim": "The Sims"
                                },
                                {
                                    "diszkont_ar": "2760",
                                    "cim": "Sonic Racer"
                                },
                                {
                                    "diszkont_ar": "3020",
                                    "cim": "Spanyol (1997)"
                                },
                                {
                                    "diszkont_ar": "4587,2",
                                    "cim": "Spanyol-magyar szótár"
                                },
                                {
                                    "diszkont_ar": "2816",
                                    "cim": "Star Wars: Battle for Naboo"
                                },
                                {
                                    "diszkont_ar": "4628",
                                    "cim": "Star Wars: Force Commander (2001)"
                                },
                                {
                                    "diszkont_ar": "4642,400000000001",
                                    "cim": "Star Wars : Rogue Squadron 3D"
                                },
                                {
                                    "diszkont_ar": "3320,8",
                                    "cim": "Supreme Snowboarding"
                                },
                                {
                                    "diszkont_ar": "4429,6",
                                    "cim": "Szabadítsd ki a kisoroszlánt!"
                                },
                                {
                                    "diszkont_ar": "4848",
                                    "cim": "Szabadságharc 1848-49 (1988)"
                                },
                                {
                                    "diszkont_ar": "4149,6",
                                    "cim": "A szabadságharc népzenei emlékei"
                                },
                                {
                                    "diszkont_ar": "3593,6000000000004",
                                    "cim": "Szolfézs: Kezdőknek és haladóknak"
                                },
                                {
                                    "diszkont_ar": "4792",
                                    "cim": "Talk To Me Deutsch 2-4."
                                },
                                {
                                    "diszkont_ar": "3794,4",
                                    "cim": "Talk To Me English 1."
                                },
                                {
                                    "diszkont_ar": "3978,4",
                                    "cim": "Talk To Me Francais 1-2."
                                },
                                {
                                    "diszkont_ar": "4867,2",
                                    "cim": "Tankok, tüzérség (2002)"
                                },
                                {
                                    "diszkont_ar": "3448",
                                    "cim": "Tanulj tovább! 2000 (2000)"
                                },
                                {
                                    "diszkont_ar": "3584",
                                    "cim": "Táplálkozás, életmód mesterfokon (2002)"
                                },
                                {
                                    "diszkont_ar": "4848,8",
                                    "cim": "Target English (1998)"
                                },
                                {
                                    "diszkont_ar": "2989,6000000000004",
                                    "cim": "Tarzan"
                                },
                                {
                                    "diszkont_ar": "3901,6000000000004",
                                    "cim": "Terrorizmus (2002)"
                                },
                                {
                                    "diszkont_ar": "4305,6",
                                    "cim": "Testbeszéd (1998)"
                                },
                                {
                                    "diszkont_ar": "3325,6000000000004",
                                    "cim": "Tesztre készen: angol (1998)"
                                },
                                {
                                    "diszkont_ar": "3652,8",
                                    "cim": "Tesztre készen: német (1998)"
                                },
                                {
                                    "diszkont_ar": "4200",
                                    "cim": "Thaiföldi ízek (1999)"
                                },
                                {
                                    "diszkont_ar": "4127,2",
                                    "cim": "Timeshock!"
                                },
                                {
                                    "diszkont_ar": "3460",
                                    "cim": "Tomi megmenti a tengert (2000)"
                                },
                                {
                                    "diszkont_ar": "3638,4",
                                    "cim": "Touché - The Adventures of the Fifth"
                                },
                                {
                                    "diszkont_ar": "3047,2000000000003",
                                    "cim": "Toy Story 2."
                                },
                                {
                                    "diszkont_ar": "2989,6000000000004",
                                    "cim": "Történelem (1998)"
                                },
                                {
                                    "diszkont_ar": "2989,6000000000004",
                                    "cim": "Történelem : 10-14 éveseknek (2002)"
                                },
                                {
                                    "diszkont_ar": "2988,8",
                                    "cim": "Történelem : középiskola 1. osztály (2002)"
                                },
                                {
                                    "diszkont_ar": "4508",
                                    "cim": "Történelem : középiskola 4. osztály (2002)"
                                },
                                {
                                    "diszkont_ar": "3508",
                                    "cim": "Traffic Giant"
                                },
                                {
                                    "diszkont_ar": "4342,400000000001",
                                    "cim": "Train Simulator (2002)"
                                },
                                {
                                    "diszkont_ar": "3720,8",
                                    "cim": "Trickstyle"
                                },
                                {
                                    "diszkont_ar": "4368,8",
                                    "cim": "A tudás próbája (2001)"
                                },
                                {
                                    "diszkont_ar": "4190,400000000001",
                                    "cim": "Turul : 1883-1900 (2002)"
                                },
                                {
                                    "diszkont_ar": "4417,6",
                                    "cim": "UEFA Champions Leage Season"
                                },
                                {
                                    "diszkont_ar": "4819,2",
                                    "cim": "Új Könyvek 1994-2000 (2002)"
                                },
                                {
                                    "diszkont_ar": "2923,2000000000003",
                                    "cim": "Az Univerzum története"
                                },
                                {
                                    "diszkont_ar": "4564",
                                    "cim": "Utazás a csillagok között (1998)"
                                },
                                {
                                    "diszkont_ar": "2865,6000000000004",
                                    "cim": "Utazás a Naprendszerben"
                                },
                                {
                                    "diszkont_ar": "4793,6",
                                    "cim": "Utazás a Naprendszerben 2."
                                },
                                {
                                    "diszkont_ar": "4380,8",
                                    "cim": "Úton 2. (1998)"
                                },
                                {
                                    "diszkont_ar": "3912,8",
                                    "cim": "Üzleti protokoll CD (2002)"
                                },
                                {
                                    "diszkont_ar": "3389,6000000000004",
                                    "cim": "Várak, kastélyok, legendák 1."
                                },
                                {
                                    "diszkont_ar": "2650,4",
                                    "cim": "Várak, kastélyok, legendák 2. (2002)"
                                },
                                {
                                    "diszkont_ar": "3890,4",
                                    "cim": "A varázslatos emberi test (1998)"
                                },
                                {
                                    "diszkont_ar": "4569,6",
                                    "cim": "Varázslatos szülinap"
                                },
                                {
                                    "diszkont_ar": "3516",
                                    "cim": "Varázslatos történelmi nyomozás"
                                },
                                {
                                    "diszkont_ar": "4599,2",
                                    "cim": "A városi élet a Római Birodalomban (1999)"
                                },
                                {
                                    "diszkont_ar": "3248",
                                    "cim": "A Vazul-ág (1038-1301) (1997)"
                                },
                                {
                                    "diszkont_ar": "4319,2",
                                    "cim": "Világatlasz '99 (1998)"
                                },
                                {
                                    "diszkont_ar": "4161,6",
                                    "cim": "Világatlasz '99 (1998)"
                                },
                                {
                                    "diszkont_ar": "2756,8",
                                    "cim": "Világatlasz (2001)"
                                },
                                {
                                    "diszkont_ar": "2876",
                                    "cim": "Világirodalom : Az ókortól napjainkig (2001)"
                                },
                                {
                                    "diszkont_ar": "4241,6",
                                    "cim": "Volt egyszer egy Magyarország"
                                },
                                {
                                    "diszkont_ar": "4619,2",
                                    "cim": "Warcraft III. (2002)"
                                },
                                {
                                    "diszkont_ar": "3549,6000000000004",
                                    "cim": "William Shakespeare összes művei"
                                },
                                {
                                    "diszkont_ar": "3315,2000000000003",
                                    "cim": "Zielpunkt Deutsch (1997)"
                                },
                                {
                                    "diszkont_ar": "4852",
                                    "cim": "Zöld Ödön a földgömbön"
                                }
                            ]
                        },
                        "text/html": [
                            "<table>",
                            "<tr><th>diszkont_ar</th><th>cim</th></tr>",
                            "<tr><td>3087,2000000000003</td><td>NULL</td></tr>",
                            "<tr><td>3395,2000000000003</td><td>A II. világháború története (1999)</td></tr>",
                            "<tr><td>4032,8</td><td>3D Dinosaur - adventure</td></tr>",
                            "<tr><td>4284</td><td>3D virtuális origami (2000)</td></tr>",
                            "<tr><td>4560</td><td>Az 1848-1849-iki szabadságharc története (2002)</td></tr>",
                            "<tr><td>2832</td><td>Ablak zsiráf (1999)</td></tr>",
                            "<tr><td>3392,8</td><td>Ady Endre összes művei (1999)</td></tr>",
                            "<tr><td>4254,400000000001</td><td>Afrika</td></tr>",
                            "<tr><td>3585,6000000000004</td><td>Age of Empires (2000)</td></tr>",
                            "<tr><td>3448,8</td><td>Airport Inc.</td></tr>",
                            "<tr><td>4472,8</td><td>American Rodeo : BullRider 2000 (2001)</td></tr>",
                            "<tr><td>3882,4</td><td>Angol : 8-10 éveseknek (2002)</td></tr>",
                            "<tr><td>3924,8</td><td>Angol és német nyelvtani gyakorlatok (2002)</td></tr>",
                            "<tr><td>3559,2000000000003</td><td>Angol szótanító CD-ROM</td></tr>",
                            "<tr><td>3555,2000000000003</td><td>Angol szótanító CD-ROM</td></tr>",
                            "<tr><td>2807,2000000000003</td><td>Angol szótár (1996)</td></tr>",
                            "<tr><td>4120,8</td><td>Angol-magyar, Magyar-angol hangosszótár</td></tr>",
                            "<tr><td>4510,400000000001</td><td>Angol-magyar nagyszótár (Halász Előd)</td></tr>",
                            "<tr><td>4564,8</td><td>Az áramvonalas fakanál</td></tr>",
                            "<tr><td>2712,8</td><td>Arany János: A bajusz (2002)</td></tr>",
                            "<tr><td>4017,6000000000004</td><td>Az Árpád-ház története</td></tr>",
                            "<tr><td>3131,2000000000003</td><td>Art Attack (1998)</td></tr>",
                            "<tr><td>4628,8</td><td>Art puzzle (1998)</td></tr>",
                            "<tr><td>4499,2</td><td>Az ásványok világa</td></tr>",
                            "<tr><td>4260,8</td><td>Ausztrália</td></tr>",
                            "<tr><td>3570,4</td><td>Auto 2000 - Kerékvilág</td></tr>",
                            "<tr><td>2498,4</td><td>Ázsia (2000)</td></tr>",
                            "<tr><td>3552</td><td>Biblia (1995)</td></tr>",
                            "<tr><td>4434,400000000001</td><td>Biológia '97</td></tr>",
                            "<tr><td>3055,2000000000003</td><td>Biológia (2000)</td></tr>",
                            "<tr><td>3033,6000000000004</td><td>Biológia (2001)</td></tr>",
                            "<tr><td>2785,6000000000004</td><td>Biológia : 12-14 éveseknek (2003)</td></tr>",
                            "<tr><td>3260,8</td><td>Blinky Bill : A fantasztikus léggömbkaland</td></tr>",
                            "<tr><td>3601,6000000000004</td><td>Broken Sword II. (cop. 1997)</td></tr>",
                            "<tr><td>3243,2000000000003</td><td>Budapest kalauz</td></tr>",
                            "<tr><td>4233,6</td><td>Budapest Museum</td></tr>",
                            "<tr><td>4664</td><td>Buggy</td></tr>",
                            "<tr><td>2621,6000000000004</td><td>Byte Magyarország (2002)</td></tr>",
                            "<tr><td>3308,8</td><td>Caesar III.</td></tr>",
                            "<tr><td>4849,6</td><td>Capitalism II. (2001)</td></tr>",
                            "<tr><td>4024</td><td>Capitalism Plus</td></tr>",
                            "<tr><td>2965,6000000000004</td><td>Castle Explorer</td></tr>",
                            "<tr><td>4337,6</td><td>CD Panoráma 1-4. (1998)</td></tr>",
                            "<tr><td>4208</td><td>Computer iskola (1998)</td></tr>",
                            "<tr><td>4745,6</td><td>Csizmás kandúr (1998)</td></tr>",
                            "<tr><td>3269,6000000000004</td><td>Csodálatos univerzum (1997)</td></tr>",
                            "<tr><td>3199,2000000000003</td><td>Dél-Amerika (1999)</td></tr>",
                            "<tr><td>4735,2</td><td>Dementia 1-5. (1997)</td></tr>",
                            "<tr><td>4506,400000000001</td><td>Deutsch: Anfanger (kezdő) + Telepítő </td></tr>",
                            "<tr><td>4627,2</td><td>Deutsch: Fortgeschrittene (haladó) + Installation</td></tr>",
                            "<tr><td>3501,6000000000004</td><td>Deutsch: Mittelstufe (középhaladó)+ Telepítő</td></tr>",
                            "<tr><td>4775,2</td><td>Diablo</td></tr>",
                            "<tr><td>3920</td><td>Diablo II. (2000)</td></tr>",
                            "<tr><td>4488,8</td><td>Dicső napok és hétköznapok 1848 - Digitális forrásgyűjtemény 1.</td></tr>",
                            "<tr><td>3759,2000000000003</td><td>Dreams to Reality 1-2. (1997)</td></tr>",
                            "<tr><td>4379,2</td><td>Duke Nukem 3D</td></tr>",
                            "<tr><td>2695,2000000000003</td><td>Dungeon Keeper 2. (1999)</td></tr>",
                            "<tr><td>4466,400000000001</td><td>E-Games : Collector's Edition (2001)</td></tr>",
                            "<tr><td>2606,4</td><td>Éléstár (1998)</td></tr>",
                            "<tr><td>4457,6</td><td>Élet a polgárosodó Magyarországon (2001)</td></tr>",
                            "<tr><td>3368,8</td><td>Életképek 1848 (1998)</td></tr>",
                            "<tr><td>3436</td><td>Az ember tragédiája</td></tr>",
                            "<tr><td>4267,2</td><td>Encarta World Atlas '99 1-2. (1998)</td></tr>",
                            "<tr><td>4173,6</td><td>Enemy Engaged RAH-66</td></tr>",
                            "<tr><td>4172</td><td>English 1-2. + Telepítő</td></tr>",
                            "<tr><td>2901,6000000000004</td><td>English: Intermediate (haladó)</td></tr>",
                            "<tr><td>3582,4</td><td>English by Stealth  lásd: Lopva angolul</td></tr>",
                            "<tr><td>3999,2000000000003</td><td>Erdély (1996)</td></tr>",
                            "<tr><td>3131,2000000000003</td><td>Espanol: Intermedio + Telepítő</td></tr>",
                            "<tr><td>4705,6</td><td>Espanol: Principiante + Telepítő</td></tr>",
                            "<tr><td>3195,2000000000003</td><td>Észak-Amerika</td></tr>",
                            "<tr><td>4216</td><td>Európa</td></tr>",
                            "<tr><td>3096,8</td><td>The F.A. Premier League Stars 2001</td></tr>",
                            "<tr><td>3100,8</td><td>Felvételi példatár : Angol</td></tr>",
                            "<tr><td>2572</td><td>Felvételi példatár : Biológia, földrajz</td></tr>",
                            "<tr><td>4680,8</td><td>Felvételi példatár : Kémia, fizika</td></tr>",
                            "<tr><td>4764</td><td>Felvételi példatár : Magyar nyelv és irodalom</td></tr>",
                            "<tr><td>4007,2000000000003</td><td>Felvételi példatár : Matematika</td></tr>",
                            "<tr><td>2481,6000000000004</td><td>Felvételi példatár : Német</td></tr>",
                            "<tr><td>4047,2000000000003</td><td>FIFA, 2000 (1999)</td></tr>",
                            "<tr><td>3840</td><td>Fighting Force (1998)</td></tr>",
                            "<tr><td>3705,6000000000004</td><td>Final Liberation (1997)</td></tr>",
                            "<tr><td>3685,6000000000004</td><td>Fitness mesterfokon / Béres Alexandra (2001)</td></tr>",
                            "<tr><td>2987,2000000000003</td><td>Fizika : 12-14 éveseknek (2002)</td></tr>",
                            "<tr><td>3848</td><td>Fizika felkészítő az érettségi és felvételi vizsgára</td></tr>",
                            "<tr><td>4610,400000000001</td><td>Fizika világa (2001)</td></tr>",
                            "<tr><td>4720</td><td>A Föld élővilága</td></tr>",
                            "<tr><td>3144</td><td>Földrajz: 10-14 éveseknek (2002)</td></tr>",
                            "<tr><td>2538,4</td><td>Földrajz: érettségi előkészítő (2002)</td></tr>",
                            "<tr><td>3230,4</td><td>Francais 1-2. + Telepítő</td></tr>",
                            "<tr><td>3016</td><td>Francais: Débutan (kezdő) + Telepítő</td></tr>",
                            "<tr><td>4495,2</td><td>Francais: Moyen + Telepítő</td></tr>",
                            "<tr><td>2852,8</td><td>Francia-magyar szótár</td></tr>",
                            "<tr><td>3812,8</td><td>Funschool in Dreamland (1995)</td></tr>",
                            "<tr><td>3681,6000000000004</td><td>Geolexikon 4.2 : földtani adatbázis (2002)</td></tr>",
                            "<tr><td>3148,8</td><td>Gépírás 2000</td></tr>",
                            "<tr><td>4276,8</td><td>Gondolattár: aforizmák, szállóigék</td></tr>",
                            "<tr><td>4004</td><td>GTA 2</td></tr>",
                            "<tr><td>4099,2</td><td>Hadiflották I. (2002)</td></tr>",
                            "<tr><td>2812</td><td>Hadtudományi lexikon (1998)</td></tr>",
                            "<tr><td>3024,8</td><td>Hajdúböszörmény</td></tr>",
                            "<tr><td>3322,4</td><td>Halak, kétéltűek, hüllők</td></tr>",
                            "<tr><td>4324</td><td>Half-Life (1996)</td></tr>",
                            "<tr><td>2964</td><td>Half-Life Generation: Game of the Year Edition (2002)</td></tr>",
                            "<tr><td>4595,2</td><td>Half-Life Generation: Counter Strike (2002)</td></tr>",
                            "<tr><td>4582,400000000001</td><td>Half-Life Generation: Blue Shift (2002)</td></tr>",
                            "<tr><td>3577,6000000000004</td><td>Harry Potter és a bölcsek köve (2001)</td></tr>",
                            "<tr><td>2784,8</td><td>Haza és haladás</td></tr>",
                            "<tr><td>2529,6000000000004</td><td>A hét világcsoda (2001)</td></tr>",
                            "<tr><td>3429,6000000000004</td><td>Home Desing 3D (1998)</td></tr>",
                            "<tr><td>2488</td><td>Hupikék törpikék: teletransportörp (1999)</td></tr>",
                            "<tr><td>2986,4</td><td>Informatika - Internet - Iskola</td></tr>",
                            "<tr><td>3673,6000000000004</td><td>Interaktív angol nyelvész kurzus haladó szint 1-5.</td></tr>",
                            "<tr><td>3346,4</td><td>Interaktív angol nyelvész kurzus kezdő szint</td></tr>",
                            "<tr><td>2492</td><td>Interaktív angol nyelvész kurzus középhaladó szint</td></tr>",
                            "<tr><td>3823,2000000000003</td><td>Interaktív magyar nyelvtan</td></tr>",
                            "<tr><td>3112</td><td>International Rally Championship</td></tr>",
                            "<tr><td>3947,2000000000003</td><td>Internet (1996)</td></tr>",
                            "<tr><td>3018,4</td><td>Introduction to Archeology</td></tr>",
                            "<tr><td>3515,2000000000003</td><td>Investigating 20th Century Art (1994)</td></tr>",
                            "<tr><td>4065,6000000000004</td><td>Az ipari forradalom kora (2000)</td></tr>",
                            "<tr><td>3092,8</td><td>Irodalmi arcképcsarnok</td></tr>",
                            "<tr><td>4523,2</td><td>Irodalom  felkészítő az érettségi és felvételi vizsgára</td></tr>",
                            "<tr><td>4500</td><td>Irodalom (1998)</td></tr>",
                            "<tr><td>4348,8</td><td>Italiano (1998) + Installation</td></tr>",
                            "<tr><td>4865,6</td><td>Italiano 1-2. (1998) + Installation</td></tr>",
                            "<tr><td>2735,2000000000003</td><td>Italiano 1-2. (1998) + Installation</td></tr>",
                            "<tr><td>3363,2000000000003</td><td>Jancsó</td></tr>",
                            "<tr><td>3567,2000000000003</td><td>Japán : képes kulturális atlasz (2001)</td></tr>",
                            "<tr><td>2510,4</td><td>Játékfilmek 1963-tól napjainkig</td></tr>",
                            "<tr><td>4239,2</td><td>Játszóház (1998)</td></tr>",
                            "<tr><td>3814,4</td><td>Jókai összes művei (2001)</td></tr>",
                            "<tr><td>3096</td><td>József Attila (1998)</td></tr>",
                            "<tr><td>4857,6</td><td>A jövő titkai - Interaktív horoszkóp (1998)</td></tr>",
                            "<tr><td>2485,6000000000004</td><td>Kártyaváros</td></tr>",
                            "<tr><td>4075,2000000000003</td><td>Kémia Kalauz 2.</td></tr>",
                            "<tr><td>4676</td><td>A kémkedés és a hírszerzés története (2002)</td></tr>",
                            "<tr><td>3144,8</td><td>Képes krónika (1996)</td></tr>",
                            "<tr><td>4326,400000000001</td><td>Képtárak (1995)</td></tr>",
                            "<tr><td>3441,6000000000004</td><td>Kereszt és félhold</td></tr>",
                            "<tr><td>4367,2</td><td>Kétfejű sas: A Habsburg-uralom Magyarországon (1699-1790)</td></tr>",
                            "<tr><td>3863,2000000000003</td><td>Kettős kötődés: Az Osztrák-Magyar Monarchia (1867-1918)</td></tr>",
                            "<tr><td>3640</td><td>Kínai falatok</td></tr>",
                            "<tr><td>2604,8</td><td>Királyi könyvek 1-9. kötet</td></tr>",
                            "<tr><td>4405,6</td><td>Királyi könyvek 18-26. kötet</td></tr>",
                            "<tr><td>4380,8</td><td>Királyi könyvek 27-38. kötet : 1703-1740 (2002)</td></tr>",
                            "<tr><td>4584</td><td>Kispál és a borz (1998)</td></tr>",
                            "<tr><td>3671,2000000000003</td><td>Kossuth Lajos összes munkái (2002)</td></tr>",
                            "<tr><td>4406,400000000001</td><td>Környezetvédelmi kalauz (1999)</td></tr>",
                            "<tr><td>2875,2000000000003</td><td>Kötelező olvasmányok könyvtára 1. (2002)</td></tr>",
                            "<tr><td>4430,400000000001</td><td>A kőszívű ember fiai - Egri csillagok</td></tr>",
                            "<tr><td>3970,4</td><td>A kutyák: A család kedvencei</td></tr>",
                            "<tr><td>4188</td><td>Kutyatár</td></tr>",
                            "<tr><td>2760,8</td><td>KvízIQ : A hét világcsoda (2001)</td></tr>",
                            "<tr><td>4677,6</td><td>Lakáskultúra 2000 (2000)</td></tr>",
                            "<tr><td>4331,2</td><td>Lakáskultúra 1999 (1999)</td></tr>",
                            "<tr><td>4392,8</td><td>Lakáskultúra 1998 (1998)</td></tr>",
                            "<tr><td>2735,2000000000003</td><td>Lakáskultúra 1997 (1997)</td></tr>",
                            "<tr><td>3367,2000000000003</td><td>Lakáskultúra 1996 (1996)</td></tr>",
                            "<tr><td>3449,6000000000004</td><td>Lands of Lore II. 1-4. (1997)</td></tr>",
                            "<tr><td>3960,8</td><td>Landscape Design 3D (1998)</td></tr>",
                            "<tr><td>4066,4</td><td>Legféltettebb természeti értékeink</td></tr>",
                            "<tr><td>3550,4</td><td>Legszebb vadnövényeink</td></tr>",
                            "<tr><td>4094,4</td><td>Leonardo da Vinci</td></tr>",
                            "<tr><td>2915,2000000000003</td><td>Lilenthal Andor sakkjátszmái</td></tr>",
                            "<tr><td>4344,8</td><td>Lopva angolul /English by Stealth 1.</td></tr>",
                            "<tr><td>3677,6000000000004</td><td>Lopva angolul /English by Stealth 2.</td></tr>",
                            "<tr><td>3880,8</td><td>Lopva angolul /English by Stealth 3.</td></tr>",
                            "<tr><td>3494,4</td><td>Lovagkirályok (1301-1437) (1997)</td></tr>",
                            "<tr><td>2900,8</td><td>LoveQ, SexQ : szerelmi intelligencia (2001)</td></tr>",
                            "<tr><td>4784,8</td><td>M1 Tank (1998)</td></tr>",
                            "<tr><td>3705,6000000000004</td><td>Mackó úr (2002)</td></tr>",
                            "<tr><td>2726,4</td><td>Madárdalos kirándulások - Madártani oktató CD-ROM (1999)</td></tr>",
                            "<tr><td>3228</td><td>Magyar bélyegek katalógusa</td></tr>",
                            "<tr><td>3076</td><td>Magyar fontok '97</td></tr>",
                            "<tr><td>3297,6000000000004</td><td>A Magyar Koronázási Jelvények</td></tr>",
                            "<tr><td>3763,2000000000003</td><td>Magyar nyelv és irodalom</td></tr>",
                            "<tr><td>4126,400000000001</td><td>Magyar színházművészet a világban</td></tr>",
                            "<tr><td>3936,8</td><td>Magyarország, 1944-1956 (2001)</td></tr>",
                            "<tr><td>2938,4</td><td>Magyarország, 1944-1956 (2001)</td></tr>",
                            "<tr><td>2678,4</td><td>Magyarország Nemzeti Parkjai I.</td></tr>",
                            "<tr><td>2701,6000000000004</td><td>Magyarország Nemzeti Parkjai II.</td></tr>",
                            "<tr><td>4367,2</td><td>Magyarországi várak (1998)</td></tr>",
                            "<tr><td>4338,400000000001</td><td>Mahjongg Master (1998)</td></tr>",
                            "<tr><td>4681,6</td><td>Manó Angol 1.</td></tr>",
                            "<tr><td>4840,8</td><td>Manó Angol 1. (2002)</td></tr>",
                            "<tr><td>4282,400000000001</td><td>Manó Angol 2.</td></tr>",
                            "<tr><td>4854,400000000001</td><td>Manó Angol 2. (2000)</td></tr>",
                            "<tr><td>2779,2000000000003</td><td>Manó Élővilág</td></tr>",
                            "<tr><td>3904,8</td><td>Manó Élővilág (2002)</td></tr>",
                            "<tr><td>4306,400000000001</td><td>Manó IQ (2001)</td></tr>",
                            "<tr><td>4773,6</td><td>Manó Kaland (2002)</td></tr>",
                            "<tr><td>3320</td><td>Manó Magyarország (2002)</td></tr>",
                            "<tr><td>4796</td><td>Manó Matek 1.</td></tr>",
                            "<tr><td>4316,8</td><td>Manó Matek 1. (2002)</td></tr>",
                            "<tr><td>4454,400000000001</td><td>Manó Matek 2. (1999)</td></tr>",
                            "<tr><td>2828,8</td><td>Manó Matek 2. (1999)</td></tr>",
                            "<tr><td>3842,4</td><td>Manó Matek 3.</td></tr>",
                            "<tr><td>3996,8</td><td>Manó Muzsika</td></tr>",
                            "<tr><td>2712,8</td><td>Manó Muzsika</td></tr>",
                            "<tr><td>3713,6000000000004</td><td>Manó Német 2.</td></tr>",
                            "<tr><td>4676</td><td>Manó Olvasás 1.</td></tr>",
                            "<tr><td>4862,400000000001</td><td>Manó Puzzle (2002)</td></tr>",
                            "<tr><td>2484</td><td>Matematika (1998)</td></tr>",
                            "<tr><td>3692,8</td><td>Matematika felkészítő az érettségi és felvételi vizsgára</td></tr>",
                            "<tr><td>2652</td><td>Matematika kalauz (1997)</td></tr>",
                            "<tr><td>4032</td><td>Mig-29 (1998)</td></tr>",
                            "<tr><td>3828,8</td><td>Mikszáth Kálmán összes művei</td></tr>",
                            "<tr><td>3781,6000000000004</td><td>Mini Manó Tavasz</td></tr>",
                            "<tr><td>4028,8</td><td>MoBi Mouse: A fordító egér</td></tr>",
                            "<tr><td>3179,2000000000003</td><td>Monopoly Junior</td></tr>",
                            "<tr><td>3528</td><td>Mons Sacer Pannoniae (2001)</td></tr>",
                            "<tr><td>4381,6</td><td>Moving Puzzle Action Flight (2000)</td></tr>",
                            "<tr><td>4845,6</td><td>Multimédiás Menedzsment Könyvtár 1. - Változásmenedzsment</td></tr>",
                            "<tr><td>2623,2000000000003</td><td>Multimédiás Menedzsment Könyvtár 2. - Önszervezés</td></tr>",
                            "<tr><td>4268,8</td><td>Musique! (1997)</td></tr>",
                            "<tr><td>4878,400000000001</td><td>Művészet és mesterség</td></tr>",
                            "<tr><td>2792</td><td>Művészet és művészek (2002)</td></tr>",
                            "<tr><td>3509,6000000000004</td><td>Nagy képes világtörténet (Matczáli Henrik) (1998)</td></tr>",
                            "<tr><td>4458,400000000001</td><td>Nagy vicc tár</td></tr>",
                            "<tr><td>3901,6000000000004</td><td>A Nagybányai Festőiskola (1998)</td></tr>",
                            "<tr><td>4774,400000000001</td><td>NASA 1.</td></tr>",
                            "<tr><td>3317,6000000000004</td><td>NASA 2.</td></tr>",
                            "<tr><td>2880</td><td>Na, So Was? - Minden helyzetben otthonosan</td></tr>",
                            "<tr><td>3003,2000000000003</td><td>Német : 8-10 éveseknek (2002)</td></tr>",
                            "<tr><td>2650,4</td><td>Német szótanító CD-ROM</td></tr>",
                            "<tr><td>3597,6000000000004</td><td>Németh László összes műve</td></tr>",
                            "<tr><td>2978,4</td><td>New York : a tragédiák városa (2001)</td></tr>",
                            "<tr><td>4193,6</td><td>NHL 2001</td></tr>",
                            "<tr><td>3482,4</td><td>Nincs királyi út - A matematika kultúrtörténete</td></tr>",
                            "<tr><td>2817,6000000000004</td><td>Nyelvész : Angol és német haladóknak (1997)</td></tr>",
                            "<tr><td>2950,4</td><td>Nyelvtan összefoglaló : érettségi előkészítő (2002)</td></tr>",
                            "<tr><td>4666,400000000001</td><td>Az óceán világa - Maldiv szigetek (2000)</td></tr>",
                            "<tr><td>2497,6000000000004</td><td>Ókori lexikon</td></tr>",
                            "<tr><td>3285,6000000000004</td><td>Olasz-magyar, magyar-olasz digitális szótár</td></tr>",
                            "<tr><td>4086,4</td><td>Olasz szótanító CD-ROM</td></tr>",
                            "<tr><td>4807,2</td><td>Orosz (1998)</td></tr>",
                            "<tr><td>3732,8</td><td>Orosz-magyar nagyszótár</td></tr>",
                            "<tr><td>3802,4</td><td>Az Országos Széchényi Könyvtár corvinái, 2002 (2002)</td></tr>",
                            "<tr><td>3487,2000000000003</td><td>Az Osztrák-Magyar Monarchia írásban és képekben (2001)</td></tr>",
                            "<tr><td>3149,6000000000004</td><td>Paddle Bash (2001)</td></tr>",
                            "<tr><td>3684,8</td><td>Pannon Enciklopédia (1998)</td></tr>",
                            "<tr><td>4653,6</td><td>Pannonhalmi Főapátság (2001)</td></tr>",
                            "<tr><td>4846,400000000001</td><td>Panzer General III: Scorched Earth (2000)</td></tr>",
                            "<tr><td>4498,400000000001</td><td>People's General (1998)</td></tr>",
                            "<tr><td>4390,400000000001</td><td>Petőfi Sándor: Arany Lacinak (2002)</td></tr>",
                            "<tr><td>3025,6000000000004</td><td>Petőfi Sándor összes költeményei</td></tr>",
                            "<tr><td>4008,8</td><td>Plane Crazy</td></tr>",
                            "<tr><td>2515,2000000000003</td><td>Quake III. (2001)</td></tr>",
                            "<tr><td>3822,4</td><td>Rákóczi-szabadságharc</td></tr>",
                            "<tr><td>2484,8</td><td>Rally Championship</td></tr>",
                            "<tr><td>3587,2000000000003</td><td>Rayman: Matek és olvasás</td></tr>",
                            "<tr><td>3191,2000000000003</td><td>Re-Volt (1999)</td></tr>",
                            "<tr><td>3413,6000000000004</td><td>The Settlers III. 1-2. (1998)</td></tr>",
                            "<tr><td>3314,4</td><td>The Settlers IV. (2001)</td></tr>",
                            "<tr><td>4720</td><td>Shanghai (1997)</td></tr>",
                            "<tr><td>3234,4</td><td>The Sims</td></tr>",
                            "<tr><td>2760</td><td>Sonic Racer</td></tr>",
                            "<tr><td>3020</td><td>Spanyol (1997)</td></tr>",
                            "<tr><td>4587,2</td><td>Spanyol-magyar szótár</td></tr>",
                            "<tr><td>2816</td><td>Star Wars: Battle for Naboo</td></tr>",
                            "<tr><td>4628</td><td>Star Wars: Force Commander (2001)</td></tr>",
                            "<tr><td>4642,400000000001</td><td>Star Wars : Rogue Squadron 3D</td></tr>",
                            "<tr><td>3320,8</td><td>Supreme Snowboarding</td></tr>",
                            "<tr><td>4429,6</td><td>Szabadítsd ki a kisoroszlánt!</td></tr>",
                            "<tr><td>4848</td><td>Szabadságharc 1848-49 (1988)</td></tr>",
                            "<tr><td>4149,6</td><td>A szabadságharc népzenei emlékei</td></tr>",
                            "<tr><td>3593,6000000000004</td><td>Szolfézs: Kezdőknek és haladóknak</td></tr>",
                            "<tr><td>4792</td><td>Talk To Me Deutsch 2-4.</td></tr>",
                            "<tr><td>3794,4</td><td>Talk To Me English 1.</td></tr>",
                            "<tr><td>3978,4</td><td>Talk To Me Francais 1-2.</td></tr>",
                            "<tr><td>4867,2</td><td>Tankok, tüzérség (2002)</td></tr>",
                            "<tr><td>3448</td><td>Tanulj tovább! 2000 (2000)</td></tr>",
                            "<tr><td>3584</td><td>Táplálkozás, életmód mesterfokon (2002)</td></tr>",
                            "<tr><td>4848,8</td><td>Target English (1998)</td></tr>",
                            "<tr><td>2989,6000000000004</td><td>Tarzan</td></tr>",
                            "<tr><td>3901,6000000000004</td><td>Terrorizmus (2002)</td></tr>",
                            "<tr><td>4305,6</td><td>Testbeszéd (1998)</td></tr>",
                            "<tr><td>3325,6000000000004</td><td>Tesztre készen: angol (1998)</td></tr>",
                            "<tr><td>3652,8</td><td>Tesztre készen: német (1998)</td></tr>",
                            "<tr><td>4200</td><td>Thaiföldi ízek (1999)</td></tr>",
                            "<tr><td>4127,2</td><td>Timeshock!</td></tr>",
                            "<tr><td>3460</td><td>Tomi megmenti a tengert (2000)</td></tr>",
                            "<tr><td>3638,4</td><td>Touché - The Adventures of the Fifth</td></tr>",
                            "<tr><td>3047,2000000000003</td><td>Toy Story 2.</td></tr>",
                            "<tr><td>2989,6000000000004</td><td>Történelem (1998)</td></tr>",
                            "<tr><td>2989,6000000000004</td><td>Történelem : 10-14 éveseknek (2002)</td></tr>",
                            "<tr><td>2988,8</td><td>Történelem : középiskola 1. osztály (2002)</td></tr>",
                            "<tr><td>4508</td><td>Történelem : középiskola 4. osztály (2002)</td></tr>",
                            "<tr><td>3508</td><td>Traffic Giant</td></tr>",
                            "<tr><td>4342,400000000001</td><td>Train Simulator (2002)</td></tr>",
                            "<tr><td>3720,8</td><td>Trickstyle</td></tr>",
                            "<tr><td>4368,8</td><td>A tudás próbája (2001)</td></tr>",
                            "<tr><td>4190,400000000001</td><td>Turul : 1883-1900 (2002)</td></tr>",
                            "<tr><td>4417,6</td><td>UEFA Champions Leage Season</td></tr>",
                            "<tr><td>4819,2</td><td>Új Könyvek 1994-2000 (2002)</td></tr>",
                            "<tr><td>2923,2000000000003</td><td>Az Univerzum története</td></tr>",
                            "<tr><td>4564</td><td>Utazás a csillagok között (1998)</td></tr>",
                            "<tr><td>2865,6000000000004</td><td>Utazás a Naprendszerben</td></tr>",
                            "<tr><td>4793,6</td><td>Utazás a Naprendszerben 2.</td></tr>",
                            "<tr><td>4380,8</td><td>Úton 2. (1998)</td></tr>",
                            "<tr><td>3912,8</td><td>Üzleti protokoll CD (2002)</td></tr>",
                            "<tr><td>3389,6000000000004</td><td>Várak, kastélyok, legendák 1.</td></tr>",
                            "<tr><td>2650,4</td><td>Várak, kastélyok, legendák 2. (2002)</td></tr>",
                            "<tr><td>3890,4</td><td>A varázslatos emberi test (1998)</td></tr>",
                            "<tr><td>4569,6</td><td>Varázslatos szülinap</td></tr>",
                            "<tr><td>3516</td><td>Varázslatos történelmi nyomozás</td></tr>",
                            "<tr><td>4599,2</td><td>A városi élet a Római Birodalomban (1999)</td></tr>",
                            "<tr><td>3248</td><td>A Vazul-ág (1038-1301) (1997)</td></tr>",
                            "<tr><td>4319,2</td><td>Világatlasz '99 (1998)</td></tr>",
                            "<tr><td>4161,6</td><td>Világatlasz '99 (1998)</td></tr>",
                            "<tr><td>2756,8</td><td>Világatlasz (2001)</td></tr>",
                            "<tr><td>2876</td><td>Világirodalom : Az ókortól napjainkig (2001)</td></tr>",
                            "<tr><td>4241,6</td><td>Volt egyszer egy Magyarország</td></tr>",
                            "<tr><td>4619,2</td><td>Warcraft III. (2002)</td></tr>",
                            "<tr><td>3549,6000000000004</td><td>William Shakespeare összes művei</td></tr>",
                            "<tr><td>3315,2000000000003</td><td>Zielpunkt Deutsch (1997)</td></tr>",
                            "<tr><td>4852</td><td>Zöld Ödön a földgömbön</td></tr>",
                            "</table>"
                        ]
                    }
                }
            ],
            "execution_count": 15
        },
        {
            "cell_type": "markdown",
            "source": [
                "6. Melyek azok a kölcsönzések, ahol még nem hozták vissza a dvd-t?"
            ],
            "metadata": {
                "azdata_cell_guid": "5fe65c1c-2479-45ac-ad03-ec99d12eae21"
            },
            "attachments": {}
        },
        {
            "cell_type": "code",
            "source": [
                ""
            ],
            "metadata": {
                "azdata_cell_guid": "924f2dde-f1c2-4def-a7f9-dbf4bace7735",
                "language": "sql",
                "tags": [
                    "hide_input"
                ]
            },
            "outputs": [],
            "execution_count": null
        },
        {
            "cell_type": "markdown",
            "source": [
                "7. Listázzuk azon diákok nevét és születési idejét, akik 1984-ben vagy 1985-ben születtek!  \n",
                "\n",
                "  \n",
                "\n",
                "a.  A születési dátum csak az évet, hónapot és a napot tartalmazza! \n",
                "\n",
                "b.  A születési dátum oszlopát nevezzük el 'Születési idő'-nek!"
            ],
            "metadata": {
                "azdata_cell_guid": "3aeb6bf5-b111-40d5-92b2-9712ce335696"
            },
            "attachments": {}
        },
        {
            "cell_type": "code",
            "source": [
                "SELECT Nev,\r\n",
                "-- CAST(Szulido AS nvarchar(11))\r\n",
                "CAST(YEAR(Szulido) AS nvarchar(4)) +\r\n",
                "'.' +\r\n",
                "CAST(MONTH(Szulido) AS nvarchar(2)) +\r\n",
                "'.' +\r\n",
                "CAST(DAY(Szulido) AS nvarchar(2)) \r\n",
                "-- CAST(Szulido AS date) -- a legjobb megoldás\r\n",
                "FROM diak\r\n",
                "WHERE YEAR(Szulido) = 1984 OR \r\n",
                "      YEAR(Szulido) = 1985\r\n",
                "-- WHERE YEAR(Szulido) IN (1984, 1985)"
            ],
            "metadata": {
                "azdata_cell_guid": "3e89b651-f56f-4102-af52-30eb2bbe360d",
                "language": "sql",
                "tags": []
            },
            "outputs": [
                {
                    "output_type": "display_data",
                    "data": {
                        "text/html": "(3 rows affected)"
                    },
                    "metadata": {}
                },
                {
                    "output_type": "display_data",
                    "data": {
                        "text/html": "Total execution time: 00:00:00.007"
                    },
                    "metadata": {}
                },
                {
                    "output_type": "execute_result",
                    "metadata": {},
                    "execution_count": 21,
                    "data": {
                        "application/vnd.dataresource+json": {
                            "schema": {
                                "fields": [
                                    {
                                        "name": "Nev"
                                    },
                                    {
                                        "name": "(No column name)"
                                    }
                                ]
                            },
                            "data": [
                                {
                                    "Nev": "Kovács Imre",
                                    "(No column name)": "1984.3.2"
                                },
                                {
                                    "Nev": "Kapos Petra",
                                    "(No column name)": "1985.12.23"
                                },
                                {
                                    "Nev": "Koppány Olga",
                                    "(No column name)": "1984.2.28"
                                }
                            ]
                        },
                        "text/html": [
                            "<table>",
                            "<tr><th>Nev</th><th>(No column name)</th></tr>",
                            "<tr><td>Kovács Imre</td><td>1984.3.2</td></tr>",
                            "<tr><td>Kapos Petra</td><td>1985.12.23</td></tr>",
                            "<tr><td>Koppány Olga</td><td>1984.2.28</td></tr>",
                            "</table>"
                        ]
                    }
                }
            ],
            "execution_count": 21
        },
        {
            "cell_type": "markdown",
            "source": [
                "8. Készítsünk lekérdezést, amely a tanulók nevét és az ebből képzett felhasználói nevét tartalmazza. \n",
                "\n",
                "  \n",
                "\n",
                "a.  A felhasználói név álljon a név első kettő, illetve utolsó kettő betűjének összefűzéséből!\n",
                "\n",
                "b.  A listát szűrjük azon tanulókra, akik teljes neve - szóközzel együtt - legalább 10 betűs!"
            ],
            "metadata": {
                "azdata_cell_guid": "26a504dc-ff6a-439f-94c0-4580eca3eacf"
            },
            "attachments": {}
        },
        {
            "cell_type": "code",
            "source": [
                "SELECT Nev, \r\n",
                "    LEFT(Nev, 2) + RIGHT(Nev, 2) AS 'Felhasználónév'\r\n",
                "FROM diak\r\n",
                "WHERE LEN(Nev) >= 10"
            ],
            "metadata": {
                "azdata_cell_guid": "1cbb8aeb-78b5-4350-aa45-e3202fdab85b",
                "language": "sql",
                "tags": []
            },
            "outputs": [
                {
                    "output_type": "display_data",
                    "data": {
                        "text/html": "(8 rows affected)"
                    },
                    "metadata": {}
                },
                {
                    "output_type": "display_data",
                    "data": {
                        "text/html": "Total execution time: 00:00:00.006"
                    },
                    "metadata": {}
                },
                {
                    "output_type": "execute_result",
                    "metadata": {},
                    "execution_count": 23,
                    "data": {
                        "application/vnd.dataresource+json": {
                            "schema": {
                                "fields": [
                                    {
                                        "name": "Nev"
                                    },
                                    {
                                        "name": "Felhasználónév"
                                    }
                                ]
                            },
                            "data": [
                                {
                                    "Nev": "Kovács Imre",
                                    "Felhasználónév": "Kore"
                                },
                                {
                                    "Nev": "Horváth Emil",
                                    "Felhasználónév": "Hoil"
                                },
                                {
                                    "Nev": "Kapos Petra",
                                    "Felhasználónév": "Kara"
                                },
                                {
                                    "Nev": "Csóka Anna",
                                    "Felhasználónév": "Csna"
                                },
                                {
                                    "Nev": "Nyúl Tamás",
                                    "Felhasználónév": "Nyás"
                                },
                                {
                                    "Nev": "Ordasi Emma",
                                    "Felhasználónév": "Orma"
                                },
                                {
                                    "Nev": "Koppány Olga",
                                    "Felhasználónév": "Koga"
                                },
                                {
                                    "Nev": "Kozma Patrícia",
                                    "Felhasználónév": "Koia"
                                }
                            ]
                        },
                        "text/html": [
                            "<table>",
                            "<tr><th>Nev</th><th>Felhasználónév</th></tr>",
                            "<tr><td>Kovács Imre</td><td>Kore</td></tr>",
                            "<tr><td>Horváth Emil</td><td>Hoil</td></tr>",
                            "<tr><td>Kapos Petra</td><td>Kara</td></tr>",
                            "<tr><td>Csóka Anna</td><td>Csna</td></tr>",
                            "<tr><td>Nyúl Tamás</td><td>Nyás</td></tr>",
                            "<tr><td>Ordasi Emma</td><td>Orma</td></tr>",
                            "<tr><td>Koppány Olga</td><td>Koga</td></tr>",
                            "<tr><td>Kozma Patrícia</td><td>Koia</td></tr>",
                            "</table>"
                        ]
                    }
                }
            ],
            "execution_count": 23
        },
        {
            "cell_type": "markdown",
            "source": [
                "9. Készítsünk listát a diákok adatairól, ahol a diákok neve úgy jelenik meg, hogy először a keresztnév, majd a vezetéknév, közöttük szóközzel!  \n",
                "\n",
                "a.  Ezen felül a születési idő három külön oszlopban jelenjen meg (év, hónap, nap). \n",
                "\n",
                "b.  Az oszlopokat nevezzük el értelemszerűen!"
            ],
            "metadata": {
                "azdata_cell_guid": "435e2860-2dd5-4877-90f4-34a43baeb53c"
            },
            "attachments": {}
        },
        {
            "cell_type": "code",
            "source": [
                ""
            ],
            "metadata": {
                "azdata_cell_guid": "ce846351-ddbe-4d8e-b8fb-2a92c73ac80b",
                "language": "sql",
                "tags": [
                    "hide_input"
                ]
            },
            "outputs": [],
            "execution_count": null
        },
        {
            "cell_type": "markdown",
            "source": [
                "10. Készítsünk listát a munkák azonosítójáról és megnevezéséről! Egy új oszlopban azt is jelenítsük meg, hogy melyik munka hetente mennyit fizet! \n",
                "\n",
                "a.  Az oszlop neve legyen Heti bér, az értéket kerekítsük 1000 forintra! \n",
                "\n",
                "b.  A listát szűrjük azon rekordokra, ahol a kerekített heti bér 10000 Ft felett van!"
            ],
            "metadata": {
                "azdata_cell_guid": "217c5772-afe2-4a7c-b913-e3a3e09d6411"
            },
            "attachments": {}
        },
        {
            "cell_type": "code",
            "source": [
                "-- óradíj * óraszám * 5 = heti bér\r\n",
                "SELECT munkaId,\r\n",
                "allas, \r\n",
                "ROUND(oradij * oraszam * 5, -3) AS 'Heti bér'\r\n",
                "FROM munka\r\n",
                "WHERE ROUND(oradij * oraszam * 5, -3) > 10000"
            ],
            "metadata": {
                "azdata_cell_guid": "a9cc0926-3dbd-4ed8-8179-1c39d64a0762",
                "language": "sql",
                "tags": []
            },
            "outputs": [
                {
                    "output_type": "display_data",
                    "data": {
                        "text/html": "(7 rows affected)"
                    },
                    "metadata": {}
                },
                {
                    "output_type": "display_data",
                    "data": {
                        "text/html": "Total execution time: 00:00:00.004"
                    },
                    "metadata": {}
                },
                {
                    "output_type": "execute_result",
                    "metadata": {},
                    "execution_count": 29,
                    "data": {
                        "application/vnd.dataresource+json": {
                            "schema": {
                                "fields": [
                                    {
                                        "name": "munkaId"
                                    },
                                    {
                                        "name": "allas"
                                    },
                                    {
                                        "name": "Heti bér"
                                    }
                                ]
                            },
                            "data": [
                                {
                                    "munkaId": "5",
                                    "allas": "kézbesítő",
                                    "Heti bér": "14000"
                                },
                                {
                                    "munkaId": "7",
                                    "allas": "eladó",
                                    "Heti bér": "12000"
                                },
                                {
                                    "munkaId": "16",
                                    "allas": "pincér",
                                    "Heti bér": "14000"
                                },
                                {
                                    "munkaId": "17",
                                    "allas": "pincér",
                                    "Heti bér": "14000"
                                },
                                {
                                    "munkaId": "20",
                                    "allas": "takarító",
                                    "Heti bér": "11000"
                                },
                                {
                                    "munkaId": "21",
                                    "allas": "takarító",
                                    "Heti bér": "11000"
                                },
                                {
                                    "munkaId": "41",
                                    "allas": "eladó",
                                    "Heti bér": "12000"
                                }
                            ]
                        },
                        "text/html": [
                            "<table>",
                            "<tr><th>munkaId</th><th>allas</th><th>Heti bér</th></tr>",
                            "<tr><td>5</td><td>kézbesítő</td><td>14000</td></tr>",
                            "<tr><td>7</td><td>eladó</td><td>12000</td></tr>",
                            "<tr><td>16</td><td>pincér</td><td>14000</td></tr>",
                            "<tr><td>17</td><td>pincér</td><td>14000</td></tr>",
                            "<tr><td>20</td><td>takarító</td><td>11000</td></tr>",
                            "<tr><td>21</td><td>takarító</td><td>11000</td></tr>",
                            "<tr><td>41</td><td>eladó</td><td>12000</td></tr>",
                            "</table>"
                        ]
                    }
                }
            ],
            "execution_count": 29
        },
        {
            "cell_type": "markdown",
            "source": [
                "11. A diákok számára differenciált béremelést terveznek: a középiskolások esetében 33%, egyéb esetben 17% mértékben. Készítsünk listát, amely tartalmazza a munkák azonosítóját, az állás nevét, az eredeti óradíjat és a tervezett emelt óradíjat.\n",
                "\n",
                "  \n",
                "\n",
                "a.  Az oszlopoknak adjuk nevet értelemszerűen!\n",
                "\n",
                "b.  Az emelt óradíj összegét kerekítsük egészre! (Az esetlegesen megjelenő 0 tizedesjegyekkel ne foglalkozzunk)"
            ],
            "metadata": {
                "azdata_cell_guid": "d2340f5f-1614-473c-b937-85740d67f7c1"
            },
            "attachments": {}
        },
        {
            "cell_type": "code",
            "source": [
                ""
            ],
            "metadata": {
                "azdata_cell_guid": "e99c2c53-898f-4787-b0e6-182d106dc16f",
                "language": "sql",
                "tags": [
                    "hide_input"
                ]
            },
            "outputs": [],
            "execution_count": null
        },
        {
            "cell_type": "markdown",
            "source": [
                "12. A diákok számára próbaidőt írnak elő, amely a munka kezdetétől számítva 3 hónapig tart.    Jelenítsük meg a munka tábla adatait egy új oszloppal kiegészítve, amelyik a próbaidő    végének dátumát mutatja!  \n",
                "\n",
                "  \n",
                "\n",
                "a.  Az oszlop neve Próbaidő vége legyen! \n",
                "\n",
                "b.  A lista ne tartalmazza azokat a munkákat, ahol a diákok azonosítója nincs megadva!"
            ],
            "metadata": {
                "azdata_cell_guid": "a765e9d6-58b3-4171-872a-78f3118fd6e3"
            },
            "attachments": {}
        },
        {
            "cell_type": "code",
            "source": [
                ""
            ],
            "metadata": {
                "azdata_cell_guid": "422e8127-b652-4d3a-bfd7-9b1637b5781e",
                "language": "sql",
                "tags": [
                    "hide_input"
                ]
            },
            "outputs": [],
            "execution_count": null
        },
        {
            "cell_type": "markdown",
            "source": [
                "13. Készítsünk listát a munkák azonosítóiról és a megnevezésükről! A megnevezés allas-óraszám formában jelenjen meg, pl: eladó-4. \n",
                "\n",
                "  \n",
                "\n",
                "a.  Jelenítsük meg a dátumot is, de csak a évet és a hónapot, pl: 2003-07! \n",
                "\n",
                "b.  Ennek az oszlopnak 'Kezdés hónapja' legyen a neve! A listát szűrjük a nyári hónapokra!"
            ],
            "metadata": {
                "azdata_cell_guid": "3f9237ae-f109-401c-acb9-31d75e73331b"
            },
            "attachments": {}
        },
        {
            "cell_type": "code",
            "source": [
                ""
            ],
            "metadata": {
                "azdata_cell_guid": "4b31bb89-cfbc-46b1-8639-85c462877786",
                "language": "sql",
                "tags": [
                    "hide_input"
                ]
            },
            "outputs": [],
            "execution_count": null
        },
        {
            "cell_type": "markdown",
            "source": [
                "14. Készítsünk listát a diákok adatairól, amely a Nev oszlop helyén a diák monogramját jeleníti meg (keresztnév, illetve vezetéknév első betűje összefűzve). \n",
                "\n",
                "a.  A listát szűrjük 1983.01.01 és 1987.06.01 között született diákokra!"
            ],
            "metadata": {
                "azdata_cell_guid": "f634e09a-85ef-4e70-8ec6-ef355dfddaa7"
            },
            "attachments": {}
        },
        {
            "cell_type": "code",
            "source": [
                ""
            ],
            "metadata": {
                "azdata_cell_guid": "88abc55b-2c78-495b-a72f-3f8f4eb5fe70",
                "language": "sql",
                "tags": [
                    "hide_input"
                ]
            },
            "outputs": [],
            "execution_count": null
        },
        {
            "cell_type": "markdown",
            "source": [
                "15. A diákok a munkakezdés évének utolsó napján bónuszt kapnak, amennyiben az adott évben legalább 6 hónapot dolgoznak. \n",
                "\n",
                "  \n",
                "\n",
                "a.  Jelenítsük meg, hogy az egyes munkák adatait, egy új oszlopban az éves bónusz napját is 'Bónusz dátum' néven! \n",
                "\n",
                "b.  A lista csak a bónuszra jogosultak adatait tartalmazza!"
            ],
            "metadata": {
                "azdata_cell_guid": "4cbf2f0d-a65d-480a-8186-ccdb24498443"
            },
            "attachments": {}
        },
        {
            "cell_type": "code",
            "source": [
                ""
            ],
            "metadata": {
                "azdata_cell_guid": "c148aee8-bc85-40bf-b80a-a4898a6c05cb",
                "language": "sql",
                "tags": [
                    "hide_input"
                ]
            },
            "outputs": [],
            "execution_count": null
        }
    ]
}
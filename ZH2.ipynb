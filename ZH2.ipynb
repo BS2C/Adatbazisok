{
    "metadata": {
        "kernelspec": {
            "name": "SQL",
            "display_name": "SQL",
            "language": "sql"
        },
        "language_info": {
            "name": "sql",
            "version": ""
        }
    },
    "nbformat_minor": 2,
    "nbformat": 4,
    "cells": [
        {
            "cell_type": "code",
            "source": [
                "-- 1. FELADAT\r\n",
                "\r\n",
                "SELECT SZ.SZOBA_ID, \r\n",
                "        F.FOGLALAS_PK,\r\n",
                "        DATEDIFF(DAY, F.METTOL, F.MEDDIG) AS 'IDŐTARTAM',\r\n",
                "        LAG(DATEDIFF(DAY, F.METTOL, F.MEDDIG),1,0) OVER (PARTITION BY SZ.SZOBA_ID ORDER BY F.METTOL) AS 'ELŐZŐ FOGLALÁS IDŐTARTAMA'\r\n",
                "FROM Szoba SZ JOIN Foglalas F ON SZ.SZOBA_ID = F.SZOBA_FK"
            ],
            "metadata": {
                "azdata_cell_guid": "c885de31-9455-4995-97d8-73d579c73d7f",
                "language": "sql",
                "tags": []
            },
            "outputs": [],
            "execution_count": null
        },
        {
            "cell_type": "code",
            "source": [
                "-- 2. FELADAT\r\n",
                "\r\n",
                "SELECT IIF(GROUPING_ID(SZOBA_FK) > 0, 'ÖSSZESEN', CAST(SZOBA_FK AS NVARCHAR(3))),\r\n",
                "        COUNT(SZOBA_FK)  AS 'DB'\r\n",
                "FROM Foglalas \r\n",
                "WHERE FELNOTT_SZAM > GYERMEK_SZAM\r\n",
                "GROUP BY ROLLUP(SZOBA_FK)"
            ],
            "metadata": {
                "language": "sql",
                "azdata_cell_guid": "f9596bc8-39c5-49d6-8373-6304fac3bc1a",
                "tags": []
            },
            "outputs": [],
            "execution_count": null
        }
    ]
}